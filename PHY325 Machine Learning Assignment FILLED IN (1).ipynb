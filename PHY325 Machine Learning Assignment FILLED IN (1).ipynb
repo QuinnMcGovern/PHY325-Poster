{
 "cells": [
  {
   "cell_type": "markdown",
   "id": "e5bbf29f",
   "metadata": {},
   "source": [
    "After reviewing some ML and data analysis skills in the teaching module we will now review these concepts in this assignment. We will work with the same ML model on different data sets then before. still, one is continuous and one is discrete. We will first import the same essential libraries as before."
   ]
  },
  {
   "cell_type": "code",
   "execution_count": 1,
   "id": "c4d07c40",
   "metadata": {},
   "outputs": [],
   "source": [
    "import pandas as pd\n",
    "import numpy as np\n",
    "import matplotlib as plt\n",
    "import matplotlib.pyplot as plt"
   ]
  },
  {
   "cell_type": "markdown",
   "id": "2a500d70",
   "metadata": {},
   "source": [
    "We will first work with our discrete data set. This data set is about predicting solar flares so our target variables (y-data) will be the common, moderate and severe flare categories. The other categories are our feature categories (x-data)."
   ]
  },
  {
   "cell_type": "code",
   "execution_count": 2,
   "id": "0eea8b53",
   "metadata": {},
   "outputs": [
    {
     "data": {
      "text/html": [
       "<div>\n",
       "<style scoped>\n",
       "    .dataframe tbody tr th:only-of-type {\n",
       "        vertical-align: middle;\n",
       "    }\n",
       "\n",
       "    .dataframe tbody tr th {\n",
       "        vertical-align: top;\n",
       "    }\n",
       "\n",
       "    .dataframe thead th {\n",
       "        text-align: right;\n",
       "    }\n",
       "</style>\n",
       "<table border=\"1\" class=\"dataframe\">\n",
       "  <thead>\n",
       "    <tr style=\"text-align: right;\">\n",
       "      <th></th>\n",
       "      <th>Unnamed: 0</th>\n",
       "      <th>modified Zurich class</th>\n",
       "      <th>largest spot size</th>\n",
       "      <th>spot distribution</th>\n",
       "      <th>activity</th>\n",
       "      <th>evolution</th>\n",
       "      <th>previous 24 hour flare activity</th>\n",
       "      <th>historically-complex</th>\n",
       "      <th>became complex on this pass</th>\n",
       "      <th>area</th>\n",
       "      <th>area of largest spot</th>\n",
       "      <th>common flares</th>\n",
       "      <th>moderate flares</th>\n",
       "      <th>severe flares</th>\n",
       "    </tr>\n",
       "  </thead>\n",
       "  <tbody>\n",
       "    <tr>\n",
       "      <th>0</th>\n",
       "      <td>0</td>\n",
       "      <td>C</td>\n",
       "      <td>S</td>\n",
       "      <td>O</td>\n",
       "      <td>1</td>\n",
       "      <td>2</td>\n",
       "      <td>1</td>\n",
       "      <td>1</td>\n",
       "      <td>2</td>\n",
       "      <td>1</td>\n",
       "      <td>2</td>\n",
       "      <td>0</td>\n",
       "      <td>0</td>\n",
       "      <td>0</td>\n",
       "    </tr>\n",
       "    <tr>\n",
       "      <th>1</th>\n",
       "      <td>1</td>\n",
       "      <td>D</td>\n",
       "      <td>S</td>\n",
       "      <td>O</td>\n",
       "      <td>1</td>\n",
       "      <td>3</td>\n",
       "      <td>1</td>\n",
       "      <td>1</td>\n",
       "      <td>2</td>\n",
       "      <td>1</td>\n",
       "      <td>2</td>\n",
       "      <td>0</td>\n",
       "      <td>0</td>\n",
       "      <td>0</td>\n",
       "    </tr>\n",
       "    <tr>\n",
       "      <th>2</th>\n",
       "      <td>2</td>\n",
       "      <td>C</td>\n",
       "      <td>S</td>\n",
       "      <td>O</td>\n",
       "      <td>1</td>\n",
       "      <td>3</td>\n",
       "      <td>1</td>\n",
       "      <td>1</td>\n",
       "      <td>2</td>\n",
       "      <td>1</td>\n",
       "      <td>1</td>\n",
       "      <td>0</td>\n",
       "      <td>0</td>\n",
       "      <td>0</td>\n",
       "    </tr>\n",
       "    <tr>\n",
       "      <th>3</th>\n",
       "      <td>3</td>\n",
       "      <td>D</td>\n",
       "      <td>S</td>\n",
       "      <td>O</td>\n",
       "      <td>1</td>\n",
       "      <td>3</td>\n",
       "      <td>1</td>\n",
       "      <td>1</td>\n",
       "      <td>2</td>\n",
       "      <td>1</td>\n",
       "      <td>2</td>\n",
       "      <td>0</td>\n",
       "      <td>0</td>\n",
       "      <td>0</td>\n",
       "    </tr>\n",
       "    <tr>\n",
       "      <th>4</th>\n",
       "      <td>4</td>\n",
       "      <td>D</td>\n",
       "      <td>A</td>\n",
       "      <td>O</td>\n",
       "      <td>1</td>\n",
       "      <td>3</td>\n",
       "      <td>1</td>\n",
       "      <td>1</td>\n",
       "      <td>2</td>\n",
       "      <td>1</td>\n",
       "      <td>2</td>\n",
       "      <td>0</td>\n",
       "      <td>0</td>\n",
       "      <td>0</td>\n",
       "    </tr>\n",
       "    <tr>\n",
       "      <th>...</th>\n",
       "      <td>...</td>\n",
       "      <td>...</td>\n",
       "      <td>...</td>\n",
       "      <td>...</td>\n",
       "      <td>...</td>\n",
       "      <td>...</td>\n",
       "      <td>...</td>\n",
       "      <td>...</td>\n",
       "      <td>...</td>\n",
       "      <td>...</td>\n",
       "      <td>...</td>\n",
       "      <td>...</td>\n",
       "      <td>...</td>\n",
       "      <td>...</td>\n",
       "    </tr>\n",
       "    <tr>\n",
       "      <th>1384</th>\n",
       "      <td>1384</td>\n",
       "      <td>H</td>\n",
       "      <td>S</td>\n",
       "      <td>X</td>\n",
       "      <td>1</td>\n",
       "      <td>2</td>\n",
       "      <td>1</td>\n",
       "      <td>1</td>\n",
       "      <td>1</td>\n",
       "      <td>1</td>\n",
       "      <td>1</td>\n",
       "      <td>0</td>\n",
       "      <td>0</td>\n",
       "      <td>0</td>\n",
       "    </tr>\n",
       "    <tr>\n",
       "      <th>1385</th>\n",
       "      <td>1385</td>\n",
       "      <td>H</td>\n",
       "      <td>S</td>\n",
       "      <td>X</td>\n",
       "      <td>2</td>\n",
       "      <td>2</td>\n",
       "      <td>1</td>\n",
       "      <td>1</td>\n",
       "      <td>2</td>\n",
       "      <td>1</td>\n",
       "      <td>1</td>\n",
       "      <td>0</td>\n",
       "      <td>0</td>\n",
       "      <td>0</td>\n",
       "    </tr>\n",
       "    <tr>\n",
       "      <th>1386</th>\n",
       "      <td>1386</td>\n",
       "      <td>C</td>\n",
       "      <td>S</td>\n",
       "      <td>O</td>\n",
       "      <td>1</td>\n",
       "      <td>2</td>\n",
       "      <td>1</td>\n",
       "      <td>2</td>\n",
       "      <td>2</td>\n",
       "      <td>1</td>\n",
       "      <td>1</td>\n",
       "      <td>0</td>\n",
       "      <td>0</td>\n",
       "      <td>0</td>\n",
       "    </tr>\n",
       "    <tr>\n",
       "      <th>1387</th>\n",
       "      <td>1387</td>\n",
       "      <td>H</td>\n",
       "      <td>R</td>\n",
       "      <td>X</td>\n",
       "      <td>1</td>\n",
       "      <td>2</td>\n",
       "      <td>1</td>\n",
       "      <td>1</td>\n",
       "      <td>2</td>\n",
       "      <td>1</td>\n",
       "      <td>1</td>\n",
       "      <td>0</td>\n",
       "      <td>0</td>\n",
       "      <td>0</td>\n",
       "    </tr>\n",
       "    <tr>\n",
       "      <th>1388</th>\n",
       "      <td>1388</td>\n",
       "      <td>B</td>\n",
       "      <td>X</td>\n",
       "      <td>O</td>\n",
       "      <td>1</td>\n",
       "      <td>1</td>\n",
       "      <td>1</td>\n",
       "      <td>1</td>\n",
       "      <td>2</td>\n",
       "      <td>1</td>\n",
       "      <td>1</td>\n",
       "      <td>0</td>\n",
       "      <td>0</td>\n",
       "      <td>0</td>\n",
       "    </tr>\n",
       "  </tbody>\n",
       "</table>\n",
       "<p>1389 rows × 14 columns</p>\n",
       "</div>"
      ],
      "text/plain": [
       "      Unnamed: 0 modified Zurich class largest spot size spot distribution  \\\n",
       "0              0                     C                 S                 O   \n",
       "1              1                     D                 S                 O   \n",
       "2              2                     C                 S                 O   \n",
       "3              3                     D                 S                 O   \n",
       "4              4                     D                 A                 O   \n",
       "...          ...                   ...               ...               ...   \n",
       "1384        1384                     H                 S                 X   \n",
       "1385        1385                     H                 S                 X   \n",
       "1386        1386                     C                 S                 O   \n",
       "1387        1387                     H                 R                 X   \n",
       "1388        1388                     B                 X                 O   \n",
       "\n",
       "      activity  evolution  previous 24 hour flare activity  \\\n",
       "0            1          2                                1   \n",
       "1            1          3                                1   \n",
       "2            1          3                                1   \n",
       "3            1          3                                1   \n",
       "4            1          3                                1   \n",
       "...        ...        ...                              ...   \n",
       "1384         1          2                                1   \n",
       "1385         2          2                                1   \n",
       "1386         1          2                                1   \n",
       "1387         1          2                                1   \n",
       "1388         1          1                                1   \n",
       "\n",
       "      historically-complex  became complex on this pass  area  \\\n",
       "0                        1                            2     1   \n",
       "1                        1                            2     1   \n",
       "2                        1                            2     1   \n",
       "3                        1                            2     1   \n",
       "4                        1                            2     1   \n",
       "...                    ...                          ...   ...   \n",
       "1384                     1                            1     1   \n",
       "1385                     1                            2     1   \n",
       "1386                     2                            2     1   \n",
       "1387                     1                            2     1   \n",
       "1388                     1                            2     1   \n",
       "\n",
       "      area of largest spot  common flares  moderate flares  severe flares  \n",
       "0                        2              0                0              0  \n",
       "1                        2              0                0              0  \n",
       "2                        1              0                0              0  \n",
       "3                        2              0                0              0  \n",
       "4                        2              0                0              0  \n",
       "...                    ...            ...              ...            ...  \n",
       "1384                     1              0                0              0  \n",
       "1385                     1              0                0              0  \n",
       "1386                     1              0                0              0  \n",
       "1387                     1              0                0              0  \n",
       "1388                     1              0                0              0  \n",
       "\n",
       "[1389 rows x 14 columns]"
      ]
     },
     "execution_count": 2,
     "metadata": {},
     "output_type": "execute_result"
    }
   ],
   "source": [
    "DF_D = pd.read_csv (\"Full_Sun_Data\")\n",
    "DF_D"
   ]
  },
  {
   "cell_type": "markdown",
   "id": "9488dc88",
   "metadata": {},
   "source": [
    "First, we wish to find out some basic information on our data set. Find the column names, if there are any NaN values and check for any duplicated values too."
   ]
  },
  {
   "cell_type": "code",
   "execution_count": 3,
   "id": "07cc1223",
   "metadata": {},
   "outputs": [
    {
     "data": {
      "text/plain": [
       "Index(['Unnamed: 0', 'modified Zurich class', 'largest spot size',\n",
       "       'spot distribution', 'activity', 'evolution',\n",
       "       'previous 24 hour flare activity', 'historically-complex',\n",
       "       'became complex on this pass', 'area', 'area of largest spot',\n",
       "       'common flares', 'moderate flares', 'severe flares'],\n",
       "      dtype='object')"
      ]
     },
     "execution_count": 3,
     "metadata": {},
     "output_type": "execute_result"
    }
   ],
   "source": [
    "DF_D.columns "
   ]
  },
  {
   "cell_type": "code",
   "execution_count": 5,
   "id": "92685651",
   "metadata": {},
   "outputs": [
    {
     "data": {
      "text/plain": [
       "Unnamed: 0                         0\n",
       "modified Zurich class              0\n",
       "largest spot size                  0\n",
       "spot distribution                  0\n",
       "activity                           0\n",
       "evolution                          0\n",
       "previous 24 hour flare activity    0\n",
       "historically-complex               0\n",
       "became complex on this pass        0\n",
       "area                               0\n",
       "area of largest spot               0\n",
       "common flares                      0\n",
       "moderate flares                    0\n",
       "severe flares                      0\n",
       "dtype: int64"
      ]
     },
     "execution_count": 5,
     "metadata": {},
     "output_type": "execute_result"
    }
   ],
   "source": [
    "DF_D.isna ().sum ()\n",
    "#rember you can always use DF_D = DF_D.dropna()"
   ]
  },
  {
   "cell_type": "code",
   "execution_count": 6,
   "id": "835421fe",
   "metadata": {},
   "outputs": [
    {
     "data": {
      "text/plain": [
       "0"
      ]
     },
     "execution_count": 6,
     "metadata": {},
     "output_type": "execute_result"
    }
   ],
   "source": [
    "DF_D.duplicated ().sum ()"
   ]
  },
  {
   "cell_type": "markdown",
   "id": "25a19a9a",
   "metadata": {},
   "source": [
    "The first column is a second index. We don't need two so we can delete this first column."
   ]
  },
  {
   "cell_type": "code",
   "execution_count": 36,
   "id": "d5d89498",
   "metadata": {},
   "outputs": [],
   "source": [
    "del DF_D[\"Unnamed: 0\"]"
   ]
  },
  {
   "cell_type": "code",
   "execution_count": 8,
   "id": "f47d3acb",
   "metadata": {},
   "outputs": [
    {
     "data": {
      "text/html": [
       "<div>\n",
       "<style scoped>\n",
       "    .dataframe tbody tr th:only-of-type {\n",
       "        vertical-align: middle;\n",
       "    }\n",
       "\n",
       "    .dataframe tbody tr th {\n",
       "        vertical-align: top;\n",
       "    }\n",
       "\n",
       "    .dataframe thead th {\n",
       "        text-align: right;\n",
       "    }\n",
       "</style>\n",
       "<table border=\"1\" class=\"dataframe\">\n",
       "  <thead>\n",
       "    <tr style=\"text-align: right;\">\n",
       "      <th></th>\n",
       "      <th>modified Zurich class</th>\n",
       "      <th>largest spot size</th>\n",
       "      <th>spot distribution</th>\n",
       "      <th>activity</th>\n",
       "      <th>evolution</th>\n",
       "      <th>previous 24 hour flare activity</th>\n",
       "      <th>historically-complex</th>\n",
       "      <th>became complex on this pass</th>\n",
       "      <th>area</th>\n",
       "      <th>area of largest spot</th>\n",
       "      <th>common flares</th>\n",
       "      <th>moderate flares</th>\n",
       "      <th>severe flares</th>\n",
       "    </tr>\n",
       "  </thead>\n",
       "  <tbody>\n",
       "    <tr>\n",
       "      <th>0</th>\n",
       "      <td>C</td>\n",
       "      <td>S</td>\n",
       "      <td>O</td>\n",
       "      <td>1</td>\n",
       "      <td>2</td>\n",
       "      <td>1</td>\n",
       "      <td>1</td>\n",
       "      <td>2</td>\n",
       "      <td>1</td>\n",
       "      <td>2</td>\n",
       "      <td>0</td>\n",
       "      <td>0</td>\n",
       "      <td>0</td>\n",
       "    </tr>\n",
       "    <tr>\n",
       "      <th>1</th>\n",
       "      <td>D</td>\n",
       "      <td>S</td>\n",
       "      <td>O</td>\n",
       "      <td>1</td>\n",
       "      <td>3</td>\n",
       "      <td>1</td>\n",
       "      <td>1</td>\n",
       "      <td>2</td>\n",
       "      <td>1</td>\n",
       "      <td>2</td>\n",
       "      <td>0</td>\n",
       "      <td>0</td>\n",
       "      <td>0</td>\n",
       "    </tr>\n",
       "    <tr>\n",
       "      <th>2</th>\n",
       "      <td>C</td>\n",
       "      <td>S</td>\n",
       "      <td>O</td>\n",
       "      <td>1</td>\n",
       "      <td>3</td>\n",
       "      <td>1</td>\n",
       "      <td>1</td>\n",
       "      <td>2</td>\n",
       "      <td>1</td>\n",
       "      <td>1</td>\n",
       "      <td>0</td>\n",
       "      <td>0</td>\n",
       "      <td>0</td>\n",
       "    </tr>\n",
       "    <tr>\n",
       "      <th>3</th>\n",
       "      <td>D</td>\n",
       "      <td>S</td>\n",
       "      <td>O</td>\n",
       "      <td>1</td>\n",
       "      <td>3</td>\n",
       "      <td>1</td>\n",
       "      <td>1</td>\n",
       "      <td>2</td>\n",
       "      <td>1</td>\n",
       "      <td>2</td>\n",
       "      <td>0</td>\n",
       "      <td>0</td>\n",
       "      <td>0</td>\n",
       "    </tr>\n",
       "    <tr>\n",
       "      <th>4</th>\n",
       "      <td>D</td>\n",
       "      <td>A</td>\n",
       "      <td>O</td>\n",
       "      <td>1</td>\n",
       "      <td>3</td>\n",
       "      <td>1</td>\n",
       "      <td>1</td>\n",
       "      <td>2</td>\n",
       "      <td>1</td>\n",
       "      <td>2</td>\n",
       "      <td>0</td>\n",
       "      <td>0</td>\n",
       "      <td>0</td>\n",
       "    </tr>\n",
       "    <tr>\n",
       "      <th>...</th>\n",
       "      <td>...</td>\n",
       "      <td>...</td>\n",
       "      <td>...</td>\n",
       "      <td>...</td>\n",
       "      <td>...</td>\n",
       "      <td>...</td>\n",
       "      <td>...</td>\n",
       "      <td>...</td>\n",
       "      <td>...</td>\n",
       "      <td>...</td>\n",
       "      <td>...</td>\n",
       "      <td>...</td>\n",
       "      <td>...</td>\n",
       "    </tr>\n",
       "    <tr>\n",
       "      <th>1384</th>\n",
       "      <td>H</td>\n",
       "      <td>S</td>\n",
       "      <td>X</td>\n",
       "      <td>1</td>\n",
       "      <td>2</td>\n",
       "      <td>1</td>\n",
       "      <td>1</td>\n",
       "      <td>1</td>\n",
       "      <td>1</td>\n",
       "      <td>1</td>\n",
       "      <td>0</td>\n",
       "      <td>0</td>\n",
       "      <td>0</td>\n",
       "    </tr>\n",
       "    <tr>\n",
       "      <th>1385</th>\n",
       "      <td>H</td>\n",
       "      <td>S</td>\n",
       "      <td>X</td>\n",
       "      <td>2</td>\n",
       "      <td>2</td>\n",
       "      <td>1</td>\n",
       "      <td>1</td>\n",
       "      <td>2</td>\n",
       "      <td>1</td>\n",
       "      <td>1</td>\n",
       "      <td>0</td>\n",
       "      <td>0</td>\n",
       "      <td>0</td>\n",
       "    </tr>\n",
       "    <tr>\n",
       "      <th>1386</th>\n",
       "      <td>C</td>\n",
       "      <td>S</td>\n",
       "      <td>O</td>\n",
       "      <td>1</td>\n",
       "      <td>2</td>\n",
       "      <td>1</td>\n",
       "      <td>2</td>\n",
       "      <td>2</td>\n",
       "      <td>1</td>\n",
       "      <td>1</td>\n",
       "      <td>0</td>\n",
       "      <td>0</td>\n",
       "      <td>0</td>\n",
       "    </tr>\n",
       "    <tr>\n",
       "      <th>1387</th>\n",
       "      <td>H</td>\n",
       "      <td>R</td>\n",
       "      <td>X</td>\n",
       "      <td>1</td>\n",
       "      <td>2</td>\n",
       "      <td>1</td>\n",
       "      <td>1</td>\n",
       "      <td>2</td>\n",
       "      <td>1</td>\n",
       "      <td>1</td>\n",
       "      <td>0</td>\n",
       "      <td>0</td>\n",
       "      <td>0</td>\n",
       "    </tr>\n",
       "    <tr>\n",
       "      <th>1388</th>\n",
       "      <td>B</td>\n",
       "      <td>X</td>\n",
       "      <td>O</td>\n",
       "      <td>1</td>\n",
       "      <td>1</td>\n",
       "      <td>1</td>\n",
       "      <td>1</td>\n",
       "      <td>2</td>\n",
       "      <td>1</td>\n",
       "      <td>1</td>\n",
       "      <td>0</td>\n",
       "      <td>0</td>\n",
       "      <td>0</td>\n",
       "    </tr>\n",
       "  </tbody>\n",
       "</table>\n",
       "<p>1389 rows × 13 columns</p>\n",
       "</div>"
      ],
      "text/plain": [
       "     modified Zurich class largest spot size spot distribution  activity  \\\n",
       "0                        C                 S                 O         1   \n",
       "1                        D                 S                 O         1   \n",
       "2                        C                 S                 O         1   \n",
       "3                        D                 S                 O         1   \n",
       "4                        D                 A                 O         1   \n",
       "...                    ...               ...               ...       ...   \n",
       "1384                     H                 S                 X         1   \n",
       "1385                     H                 S                 X         2   \n",
       "1386                     C                 S                 O         1   \n",
       "1387                     H                 R                 X         1   \n",
       "1388                     B                 X                 O         1   \n",
       "\n",
       "      evolution  previous 24 hour flare activity  historically-complex  \\\n",
       "0             2                                1                     1   \n",
       "1             3                                1                     1   \n",
       "2             3                                1                     1   \n",
       "3             3                                1                     1   \n",
       "4             3                                1                     1   \n",
       "...         ...                              ...                   ...   \n",
       "1384          2                                1                     1   \n",
       "1385          2                                1                     1   \n",
       "1386          2                                1                     2   \n",
       "1387          2                                1                     1   \n",
       "1388          1                                1                     1   \n",
       "\n",
       "      became complex on this pass  area  area of largest spot  common flares  \\\n",
       "0                               2     1                     2              0   \n",
       "1                               2     1                     2              0   \n",
       "2                               2     1                     1              0   \n",
       "3                               2     1                     2              0   \n",
       "4                               2     1                     2              0   \n",
       "...                           ...   ...                   ...            ...   \n",
       "1384                            1     1                     1              0   \n",
       "1385                            2     1                     1              0   \n",
       "1386                            2     1                     1              0   \n",
       "1387                            2     1                     1              0   \n",
       "1388                            2     1                     1              0   \n",
       "\n",
       "      moderate flares  severe flares  \n",
       "0                   0              0  \n",
       "1                   0              0  \n",
       "2                   0              0  \n",
       "3                   0              0  \n",
       "4                   0              0  \n",
       "...               ...            ...  \n",
       "1384                0              0  \n",
       "1385                0              0  \n",
       "1386                0              0  \n",
       "1387                0              0  \n",
       "1388                0              0  \n",
       "\n",
       "[1389 rows x 13 columns]"
      ]
     },
     "execution_count": 8,
     "metadata": {},
     "output_type": "execute_result"
    }
   ],
   "source": [
    "DF_D #works"
   ]
  },
  {
   "cell_type": "markdown",
   "id": "75010a44",
   "metadata": {},
   "source": [
    "To check that you can manipulate the column names go through and rename each column to the same but with the first letter capitalized."
   ]
  },
  {
   "cell_type": "code",
   "execution_count": 37,
   "id": "5b0b63bf",
   "metadata": {},
   "outputs": [
    {
     "data": {
      "text/html": [
       "<div>\n",
       "<style scoped>\n",
       "    .dataframe tbody tr th:only-of-type {\n",
       "        vertical-align: middle;\n",
       "    }\n",
       "\n",
       "    .dataframe tbody tr th {\n",
       "        vertical-align: top;\n",
       "    }\n",
       "\n",
       "    .dataframe thead th {\n",
       "        text-align: right;\n",
       "    }\n",
       "</style>\n",
       "<table border=\"1\" class=\"dataframe\">\n",
       "  <thead>\n",
       "    <tr style=\"text-align: right;\">\n",
       "      <th></th>\n",
       "      <th>Modified Zurich Class</th>\n",
       "      <th>Largest Spot Size</th>\n",
       "      <th>Spot Distribution</th>\n",
       "      <th>Activity</th>\n",
       "      <th>Evolution</th>\n",
       "      <th>Previous 24 Hour Flare Activity</th>\n",
       "      <th>Historically-complex</th>\n",
       "      <th>Became Complex on this Pass</th>\n",
       "      <th>Area</th>\n",
       "      <th>Area of Largest Spot</th>\n",
       "      <th>Common Flares</th>\n",
       "      <th>Moderate Flares</th>\n",
       "      <th>Severe Flares</th>\n",
       "    </tr>\n",
       "  </thead>\n",
       "  <tbody>\n",
       "    <tr>\n",
       "      <th>0</th>\n",
       "      <td>C</td>\n",
       "      <td>S</td>\n",
       "      <td>O</td>\n",
       "      <td>1</td>\n",
       "      <td>2</td>\n",
       "      <td>1</td>\n",
       "      <td>1</td>\n",
       "      <td>2</td>\n",
       "      <td>1</td>\n",
       "      <td>2</td>\n",
       "      <td>0</td>\n",
       "      <td>0</td>\n",
       "      <td>0</td>\n",
       "    </tr>\n",
       "    <tr>\n",
       "      <th>1</th>\n",
       "      <td>D</td>\n",
       "      <td>S</td>\n",
       "      <td>O</td>\n",
       "      <td>1</td>\n",
       "      <td>3</td>\n",
       "      <td>1</td>\n",
       "      <td>1</td>\n",
       "      <td>2</td>\n",
       "      <td>1</td>\n",
       "      <td>2</td>\n",
       "      <td>0</td>\n",
       "      <td>0</td>\n",
       "      <td>0</td>\n",
       "    </tr>\n",
       "    <tr>\n",
       "      <th>2</th>\n",
       "      <td>C</td>\n",
       "      <td>S</td>\n",
       "      <td>O</td>\n",
       "      <td>1</td>\n",
       "      <td>3</td>\n",
       "      <td>1</td>\n",
       "      <td>1</td>\n",
       "      <td>2</td>\n",
       "      <td>1</td>\n",
       "      <td>1</td>\n",
       "      <td>0</td>\n",
       "      <td>0</td>\n",
       "      <td>0</td>\n",
       "    </tr>\n",
       "    <tr>\n",
       "      <th>3</th>\n",
       "      <td>D</td>\n",
       "      <td>S</td>\n",
       "      <td>O</td>\n",
       "      <td>1</td>\n",
       "      <td>3</td>\n",
       "      <td>1</td>\n",
       "      <td>1</td>\n",
       "      <td>2</td>\n",
       "      <td>1</td>\n",
       "      <td>2</td>\n",
       "      <td>0</td>\n",
       "      <td>0</td>\n",
       "      <td>0</td>\n",
       "    </tr>\n",
       "    <tr>\n",
       "      <th>4</th>\n",
       "      <td>D</td>\n",
       "      <td>A</td>\n",
       "      <td>O</td>\n",
       "      <td>1</td>\n",
       "      <td>3</td>\n",
       "      <td>1</td>\n",
       "      <td>1</td>\n",
       "      <td>2</td>\n",
       "      <td>1</td>\n",
       "      <td>2</td>\n",
       "      <td>0</td>\n",
       "      <td>0</td>\n",
       "      <td>0</td>\n",
       "    </tr>\n",
       "    <tr>\n",
       "      <th>...</th>\n",
       "      <td>...</td>\n",
       "      <td>...</td>\n",
       "      <td>...</td>\n",
       "      <td>...</td>\n",
       "      <td>...</td>\n",
       "      <td>...</td>\n",
       "      <td>...</td>\n",
       "      <td>...</td>\n",
       "      <td>...</td>\n",
       "      <td>...</td>\n",
       "      <td>...</td>\n",
       "      <td>...</td>\n",
       "      <td>...</td>\n",
       "    </tr>\n",
       "    <tr>\n",
       "      <th>1384</th>\n",
       "      <td>H</td>\n",
       "      <td>S</td>\n",
       "      <td>X</td>\n",
       "      <td>1</td>\n",
       "      <td>2</td>\n",
       "      <td>1</td>\n",
       "      <td>1</td>\n",
       "      <td>1</td>\n",
       "      <td>1</td>\n",
       "      <td>1</td>\n",
       "      <td>0</td>\n",
       "      <td>0</td>\n",
       "      <td>0</td>\n",
       "    </tr>\n",
       "    <tr>\n",
       "      <th>1385</th>\n",
       "      <td>H</td>\n",
       "      <td>S</td>\n",
       "      <td>X</td>\n",
       "      <td>2</td>\n",
       "      <td>2</td>\n",
       "      <td>1</td>\n",
       "      <td>1</td>\n",
       "      <td>2</td>\n",
       "      <td>1</td>\n",
       "      <td>1</td>\n",
       "      <td>0</td>\n",
       "      <td>0</td>\n",
       "      <td>0</td>\n",
       "    </tr>\n",
       "    <tr>\n",
       "      <th>1386</th>\n",
       "      <td>C</td>\n",
       "      <td>S</td>\n",
       "      <td>O</td>\n",
       "      <td>1</td>\n",
       "      <td>2</td>\n",
       "      <td>1</td>\n",
       "      <td>2</td>\n",
       "      <td>2</td>\n",
       "      <td>1</td>\n",
       "      <td>1</td>\n",
       "      <td>0</td>\n",
       "      <td>0</td>\n",
       "      <td>0</td>\n",
       "    </tr>\n",
       "    <tr>\n",
       "      <th>1387</th>\n",
       "      <td>H</td>\n",
       "      <td>R</td>\n",
       "      <td>X</td>\n",
       "      <td>1</td>\n",
       "      <td>2</td>\n",
       "      <td>1</td>\n",
       "      <td>1</td>\n",
       "      <td>2</td>\n",
       "      <td>1</td>\n",
       "      <td>1</td>\n",
       "      <td>0</td>\n",
       "      <td>0</td>\n",
       "      <td>0</td>\n",
       "    </tr>\n",
       "    <tr>\n",
       "      <th>1388</th>\n",
       "      <td>B</td>\n",
       "      <td>X</td>\n",
       "      <td>O</td>\n",
       "      <td>1</td>\n",
       "      <td>1</td>\n",
       "      <td>1</td>\n",
       "      <td>1</td>\n",
       "      <td>2</td>\n",
       "      <td>1</td>\n",
       "      <td>1</td>\n",
       "      <td>0</td>\n",
       "      <td>0</td>\n",
       "      <td>0</td>\n",
       "    </tr>\n",
       "  </tbody>\n",
       "</table>\n",
       "<p>1389 rows × 13 columns</p>\n",
       "</div>"
      ],
      "text/plain": [
       "     Modified Zurich Class Largest Spot Size Spot Distribution  Activity  \\\n",
       "0                        C                 S                 O         1   \n",
       "1                        D                 S                 O         1   \n",
       "2                        C                 S                 O         1   \n",
       "3                        D                 S                 O         1   \n",
       "4                        D                 A                 O         1   \n",
       "...                    ...               ...               ...       ...   \n",
       "1384                     H                 S                 X         1   \n",
       "1385                     H                 S                 X         2   \n",
       "1386                     C                 S                 O         1   \n",
       "1387                     H                 R                 X         1   \n",
       "1388                     B                 X                 O         1   \n",
       "\n",
       "      Evolution  Previous 24 Hour Flare Activity  Historically-complex  \\\n",
       "0             2                                1                     1   \n",
       "1             3                                1                     1   \n",
       "2             3                                1                     1   \n",
       "3             3                                1                     1   \n",
       "4             3                                1                     1   \n",
       "...         ...                              ...                   ...   \n",
       "1384          2                                1                     1   \n",
       "1385          2                                1                     1   \n",
       "1386          2                                1                     2   \n",
       "1387          2                                1                     1   \n",
       "1388          1                                1                     1   \n",
       "\n",
       "      Became Complex on this Pass  Area  Area of Largest Spot  Common Flares  \\\n",
       "0                               2     1                     2              0   \n",
       "1                               2     1                     2              0   \n",
       "2                               2     1                     1              0   \n",
       "3                               2     1                     2              0   \n",
       "4                               2     1                     2              0   \n",
       "...                           ...   ...                   ...            ...   \n",
       "1384                            1     1                     1              0   \n",
       "1385                            2     1                     1              0   \n",
       "1386                            2     1                     1              0   \n",
       "1387                            2     1                     1              0   \n",
       "1388                            2     1                     1              0   \n",
       "\n",
       "      Moderate Flares  Severe Flares  \n",
       "0                   0              0  \n",
       "1                   0              0  \n",
       "2                   0              0  \n",
       "3                   0              0  \n",
       "4                   0              0  \n",
       "...               ...            ...  \n",
       "1384                0              0  \n",
       "1385                0              0  \n",
       "1386                0              0  \n",
       "1387                0              0  \n",
       "1388                0              0  \n",
       "\n",
       "[1389 rows x 13 columns]"
      ]
     },
     "execution_count": 37,
     "metadata": {},
     "output_type": "execute_result"
    }
   ],
   "source": [
    "dict_I = {\"modified Zurich class\": \"Modified Zurich Class\", \"largest spot size\" : \"Largest Spot Size\", \"spot distribution\": \"Spot Distribution\",\n",
    "         \"activity\" : \"Activity\", \"evolution\" : \"Evolution\", \"previous 24 hour flare activity\" : \"Previous 24 Hour Flare Activity\", \"historically-complex\" : \"Historically-complex\",\n",
    "          \"became complex on this pass\" : \"Became Complex on this Pass\", \"area\" : \"Area\", \"area of largest spot\" : \"Area of Largest Spot\",\n",
    "          \"common flares\" : \"Common Flares\", \"moderate flares\" : \"Moderate Flares\",\n",
    "         \"severe flares\" : \"Severe Flares\"}\n",
    "DF_D = DF_D.rename(columns = dict_I)\n",
    "DF_D"
   ]
  },
  {
   "cell_type": "markdown",
   "id": "8c6dbfc5",
   "metadata": {},
   "source": [
    "# Data Splitting\n",
    "We can now encode some of our X data, some of the data is already encoded but some is not. Use a map on the first two columns and OneHotEncoder one the third (the rest are encoded)."
   ]
  },
  {
   "cell_type": "code",
   "execution_count": 38,
   "id": "7f82c1f8",
   "metadata": {},
   "outputs": [
    {
     "data": {
      "text/plain": [
       "array([2, 3, 1, 5, 7, 4], dtype=int64)"
      ]
     },
     "execution_count": 38,
     "metadata": {},
     "output_type": "execute_result"
    }
   ],
   "source": [
    "DF_D[\"Modified Zurich Class\"].unique()\n",
    "map_1 = {\"A\" : 0, \"B\" : 1, \"C\" : 2, \"D\" : 3, \"E\" : 4, \"F\" : 5, \"G\" : 6, \"H\" : 7}\n",
    "DF_D[\"Modified Zurich Class\"] = DF_D[\"Modified Zurich Class\"].replace (map_1)\n",
    "DF_D[\"Modified Zurich Class\"].unique () "
   ]
  },
  {
   "cell_type": "code",
   "execution_count": 40,
   "id": "f80ff016",
   "metadata": {},
   "outputs": [
    {
     "data": {
      "text/plain": [
       "array([10,  0,  8,  7,  9], dtype=int64)"
      ]
     },
     "execution_count": 40,
     "metadata": {},
     "output_type": "execute_result"
    }
   ],
   "source": [
    "DF_D[\"Largest Spot Size\"].unique()\n",
    "map_2 = {\"A\" : 0, \"B\" : 1, \"C\" : 2, \"D\" : 3, \"E\" : 4, \"F\" : 5, \"G\" : 6, \"H\" : 7, \"R\" : 7, \"K\" : 8, \"X\" : 9, \"S\" : 10}\n",
    "DF_D[\"Largest Spot Size\"] = DF_D[\"Largest Spot Size\"].replace (map_2)\n",
    "DF_D[\"Largest Spot Size\"].unique () "
   ]
  },
  {
   "cell_type": "markdown",
   "id": "21b54b57",
   "metadata": {},
   "source": [
    "For the first Zurich column we can expirement with an inverse map. This may be usefull to help us understand our results more. To do this, define an inverse map and use replace again. "
   ]
  },
  {
   "cell_type": "code",
   "execution_count": 12,
   "id": "65851a89",
   "metadata": {},
   "outputs": [
    {
     "data": {
      "text/plain": [
       "array(['C', 'D', 'B', 'F', 'H', 'E'], dtype=object)"
      ]
     },
     "execution_count": 12,
     "metadata": {},
     "output_type": "execute_result"
    }
   ],
   "source": [
    "map_1_inv = {0 : \"A\", 1 : \"B\", 2 : \"C\", 3 : \"D\", 4 : \"E\", 5 : \"F\", 6 : \"G\", 7 : \"H\"}\n",
    "DF_D[\"Modified Zurich Class\"] = DF_D[\"Modified Zurich Class\"].replace (map_1_inv)\n",
    "DF_D[\"Modified Zurich Class\"].unique () "
   ]
  },
  {
   "cell_type": "code",
   "execution_count": 14,
   "id": "45b73b87",
   "metadata": {},
   "outputs": [],
   "source": [
    "from sklearn.preprocessing import OneHotEncoder #we inport the nessassary module\n",
    "ohe = OneHotEncoder (sparse_output=False) #initalize"
   ]
  },
  {
   "cell_type": "code",
   "execution_count": 20,
   "id": "ed30c4a7",
   "metadata": {},
   "outputs": [
    {
     "data": {
      "text/plain": [
       "Index(['Modified Zurich Class', 'Largest Spot Size', 'Activity', 'Evolution',\n",
       "       'Previous 24 Hour Flare Activity', 'Historically-complex',\n",
       "       'Became Complex on this Pass', 'Area', 'Area of Largest Spot',\n",
       "       'Common Flares', 'Moderate Flares', 'Severe Flares', '0', '1', '2',\n",
       "       '3'],\n",
       "      dtype='object')"
      ]
     },
     "execution_count": 20,
     "metadata": {},
     "output_type": "execute_result"
    }
   ],
   "source": [
    "DF_D.columns"
   ]
  },
  {
   "cell_type": "code",
   "execution_count": 41,
   "id": "a481774c",
   "metadata": {},
   "outputs": [],
   "source": [
    "Data = DF_D[\"Activity\"]\n",
    "Data = Data.to_numpy ()    #sometimes this row is needed if you get the expected 2D got 1D error\n",
    "Data = Data.reshape (-1,1)\n",
    "Array = ohe.fit_transform(Silly_Data)\n",
    "Array = pd.DataFrame (Array)\n",
    "map_dict = {0:'0',1:'1',2:'2',3:'3',4:'4',5:'5',6:'6',7:'7',8:'8',9:'9'}\n",
    "Array = Array.rename (columns = map_dict)\n",
    "DF_D = DF_D.join (Array) #can only have one \n",
    "del DF_D[\"Activity\"]"
   ]
  },
  {
   "cell_type": "markdown",
   "id": "91438334",
   "metadata": {},
   "source": [
    "try to decode the column with the inverse one hot encodered now"
   ]
  },
  {
   "cell_type": "code",
   "execution_count": 27,
   "id": "d898773b",
   "metadata": {},
   "outputs": [
    {
     "data": {
      "text/html": [
       "<div>\n",
       "<style scoped>\n",
       "    .dataframe tbody tr th:only-of-type {\n",
       "        vertical-align: middle;\n",
       "    }\n",
       "\n",
       "    .dataframe tbody tr th {\n",
       "        vertical-align: top;\n",
       "    }\n",
       "\n",
       "    .dataframe thead th {\n",
       "        text-align: right;\n",
       "    }\n",
       "</style>\n",
       "<table border=\"1\" class=\"dataframe\">\n",
       "  <thead>\n",
       "    <tr style=\"text-align: right;\">\n",
       "      <th></th>\n",
       "      <th>0</th>\n",
       "    </tr>\n",
       "  </thead>\n",
       "  <tbody>\n",
       "    <tr>\n",
       "      <th>0</th>\n",
       "      <td>O</td>\n",
       "    </tr>\n",
       "    <tr>\n",
       "      <th>1</th>\n",
       "      <td>O</td>\n",
       "    </tr>\n",
       "    <tr>\n",
       "      <th>2</th>\n",
       "      <td>O</td>\n",
       "    </tr>\n",
       "    <tr>\n",
       "      <th>3</th>\n",
       "      <td>O</td>\n",
       "    </tr>\n",
       "    <tr>\n",
       "      <th>4</th>\n",
       "      <td>O</td>\n",
       "    </tr>\n",
       "    <tr>\n",
       "      <th>...</th>\n",
       "      <td>...</td>\n",
       "    </tr>\n",
       "    <tr>\n",
       "      <th>1384</th>\n",
       "      <td>X</td>\n",
       "    </tr>\n",
       "    <tr>\n",
       "      <th>1385</th>\n",
       "      <td>X</td>\n",
       "    </tr>\n",
       "    <tr>\n",
       "      <th>1386</th>\n",
       "      <td>O</td>\n",
       "    </tr>\n",
       "    <tr>\n",
       "      <th>1387</th>\n",
       "      <td>X</td>\n",
       "    </tr>\n",
       "    <tr>\n",
       "      <th>1388</th>\n",
       "      <td>O</td>\n",
       "    </tr>\n",
       "  </tbody>\n",
       "</table>\n",
       "<p>1389 rows × 1 columns</p>\n",
       "</div>"
      ],
      "text/plain": [
       "      0\n",
       "0     O\n",
       "1     O\n",
       "2     O\n",
       "3     O\n",
       "4     O\n",
       "...  ..\n",
       "1384  X\n",
       "1385  X\n",
       "1386  O\n",
       "1387  X\n",
       "1388  O\n",
       "\n",
       "[1389 rows x 1 columns]"
      ]
     },
     "execution_count": 27,
     "metadata": {},
     "output_type": "execute_result"
    }
   ],
   "source": [
    "Array = ohe.inverse_transform(Array)\n",
    "Array = pd.DataFrame (Array)\n",
    "Array"
   ]
  },
  {
   "cell_type": "code",
   "execution_count": 28,
   "id": "dc931187",
   "metadata": {},
   "outputs": [
    {
     "data": {
      "text/plain": [
       "Index(['Unnamed: 0', 'Modified Zurich Class', 'Largest Spot Size',\n",
       "       'Spot Distribution', 'Evolution', 'Previous 24 Hour Flare Activity',\n",
       "       'Historically-complex', 'Became Complex on this Pass', 'Area',\n",
       "       'Area of Largest Spot', 'Common Flares', 'Moderate Flares',\n",
       "       'Severe Flares', '0', '1', '2', '3'],\n",
       "      dtype='object')"
      ]
     },
     "execution_count": 28,
     "metadata": {},
     "output_type": "execute_result"
    }
   ],
   "source": [
    "DF_D.columns #works"
   ]
  },
  {
   "cell_type": "code",
   "execution_count": 42,
   "id": "9e3ef2ac",
   "metadata": {},
   "outputs": [
    {
     "data": {
      "text/html": [
       "<div>\n",
       "<style scoped>\n",
       "    .dataframe tbody tr th:only-of-type {\n",
       "        vertical-align: middle;\n",
       "    }\n",
       "\n",
       "    .dataframe tbody tr th {\n",
       "        vertical-align: top;\n",
       "    }\n",
       "\n",
       "    .dataframe thead th {\n",
       "        text-align: right;\n",
       "    }\n",
       "</style>\n",
       "<table border=\"1\" class=\"dataframe\">\n",
       "  <thead>\n",
       "    <tr style=\"text-align: right;\">\n",
       "      <th></th>\n",
       "      <th>Modified Zurich Class</th>\n",
       "      <th>Largest Spot Size</th>\n",
       "      <th>Spot Distribution</th>\n",
       "      <th>Evolution</th>\n",
       "      <th>Previous 24 Hour Flare Activity</th>\n",
       "      <th>Historically-complex</th>\n",
       "      <th>Became Complex on this Pass</th>\n",
       "      <th>Area</th>\n",
       "      <th>Area of Largest Spot</th>\n",
       "      <th>Common Flares</th>\n",
       "      <th>Moderate Flares</th>\n",
       "      <th>Severe Flares</th>\n",
       "      <th>0</th>\n",
       "      <th>1</th>\n",
       "      <th>2</th>\n",
       "      <th>3</th>\n",
       "    </tr>\n",
       "  </thead>\n",
       "  <tbody>\n",
       "    <tr>\n",
       "      <th>0</th>\n",
       "      <td>2</td>\n",
       "      <td>10</td>\n",
       "      <td>O</td>\n",
       "      <td>2</td>\n",
       "      <td>1</td>\n",
       "      <td>1</td>\n",
       "      <td>2</td>\n",
       "      <td>1</td>\n",
       "      <td>2</td>\n",
       "      <td>0</td>\n",
       "      <td>0</td>\n",
       "      <td>0</td>\n",
       "      <td>0.0</td>\n",
       "      <td>0.0</td>\n",
       "      <td>1.0</td>\n",
       "      <td>0.0</td>\n",
       "    </tr>\n",
       "    <tr>\n",
       "      <th>1</th>\n",
       "      <td>3</td>\n",
       "      <td>10</td>\n",
       "      <td>O</td>\n",
       "      <td>3</td>\n",
       "      <td>1</td>\n",
       "      <td>1</td>\n",
       "      <td>2</td>\n",
       "      <td>1</td>\n",
       "      <td>2</td>\n",
       "      <td>0</td>\n",
       "      <td>0</td>\n",
       "      <td>0</td>\n",
       "      <td>0.0</td>\n",
       "      <td>0.0</td>\n",
       "      <td>1.0</td>\n",
       "      <td>0.0</td>\n",
       "    </tr>\n",
       "    <tr>\n",
       "      <th>2</th>\n",
       "      <td>2</td>\n",
       "      <td>10</td>\n",
       "      <td>O</td>\n",
       "      <td>3</td>\n",
       "      <td>1</td>\n",
       "      <td>1</td>\n",
       "      <td>2</td>\n",
       "      <td>1</td>\n",
       "      <td>1</td>\n",
       "      <td>0</td>\n",
       "      <td>0</td>\n",
       "      <td>0</td>\n",
       "      <td>0.0</td>\n",
       "      <td>0.0</td>\n",
       "      <td>1.0</td>\n",
       "      <td>0.0</td>\n",
       "    </tr>\n",
       "    <tr>\n",
       "      <th>3</th>\n",
       "      <td>3</td>\n",
       "      <td>10</td>\n",
       "      <td>O</td>\n",
       "      <td>3</td>\n",
       "      <td>1</td>\n",
       "      <td>1</td>\n",
       "      <td>2</td>\n",
       "      <td>1</td>\n",
       "      <td>2</td>\n",
       "      <td>0</td>\n",
       "      <td>0</td>\n",
       "      <td>0</td>\n",
       "      <td>0.0</td>\n",
       "      <td>0.0</td>\n",
       "      <td>1.0</td>\n",
       "      <td>0.0</td>\n",
       "    </tr>\n",
       "    <tr>\n",
       "      <th>4</th>\n",
       "      <td>3</td>\n",
       "      <td>0</td>\n",
       "      <td>O</td>\n",
       "      <td>3</td>\n",
       "      <td>1</td>\n",
       "      <td>1</td>\n",
       "      <td>2</td>\n",
       "      <td>1</td>\n",
       "      <td>2</td>\n",
       "      <td>0</td>\n",
       "      <td>0</td>\n",
       "      <td>0</td>\n",
       "      <td>0.0</td>\n",
       "      <td>0.0</td>\n",
       "      <td>1.0</td>\n",
       "      <td>0.0</td>\n",
       "    </tr>\n",
       "    <tr>\n",
       "      <th>...</th>\n",
       "      <td>...</td>\n",
       "      <td>...</td>\n",
       "      <td>...</td>\n",
       "      <td>...</td>\n",
       "      <td>...</td>\n",
       "      <td>...</td>\n",
       "      <td>...</td>\n",
       "      <td>...</td>\n",
       "      <td>...</td>\n",
       "      <td>...</td>\n",
       "      <td>...</td>\n",
       "      <td>...</td>\n",
       "      <td>...</td>\n",
       "      <td>...</td>\n",
       "      <td>...</td>\n",
       "      <td>...</td>\n",
       "    </tr>\n",
       "    <tr>\n",
       "      <th>1384</th>\n",
       "      <td>7</td>\n",
       "      <td>10</td>\n",
       "      <td>X</td>\n",
       "      <td>2</td>\n",
       "      <td>1</td>\n",
       "      <td>1</td>\n",
       "      <td>1</td>\n",
       "      <td>1</td>\n",
       "      <td>1</td>\n",
       "      <td>0</td>\n",
       "      <td>0</td>\n",
       "      <td>0</td>\n",
       "      <td>0.0</td>\n",
       "      <td>0.0</td>\n",
       "      <td>0.0</td>\n",
       "      <td>1.0</td>\n",
       "    </tr>\n",
       "    <tr>\n",
       "      <th>1385</th>\n",
       "      <td>7</td>\n",
       "      <td>10</td>\n",
       "      <td>X</td>\n",
       "      <td>2</td>\n",
       "      <td>1</td>\n",
       "      <td>1</td>\n",
       "      <td>2</td>\n",
       "      <td>1</td>\n",
       "      <td>1</td>\n",
       "      <td>0</td>\n",
       "      <td>0</td>\n",
       "      <td>0</td>\n",
       "      <td>0.0</td>\n",
       "      <td>0.0</td>\n",
       "      <td>0.0</td>\n",
       "      <td>1.0</td>\n",
       "    </tr>\n",
       "    <tr>\n",
       "      <th>1386</th>\n",
       "      <td>2</td>\n",
       "      <td>10</td>\n",
       "      <td>O</td>\n",
       "      <td>2</td>\n",
       "      <td>1</td>\n",
       "      <td>2</td>\n",
       "      <td>2</td>\n",
       "      <td>1</td>\n",
       "      <td>1</td>\n",
       "      <td>0</td>\n",
       "      <td>0</td>\n",
       "      <td>0</td>\n",
       "      <td>0.0</td>\n",
       "      <td>0.0</td>\n",
       "      <td>1.0</td>\n",
       "      <td>0.0</td>\n",
       "    </tr>\n",
       "    <tr>\n",
       "      <th>1387</th>\n",
       "      <td>7</td>\n",
       "      <td>7</td>\n",
       "      <td>X</td>\n",
       "      <td>2</td>\n",
       "      <td>1</td>\n",
       "      <td>1</td>\n",
       "      <td>2</td>\n",
       "      <td>1</td>\n",
       "      <td>1</td>\n",
       "      <td>0</td>\n",
       "      <td>0</td>\n",
       "      <td>0</td>\n",
       "      <td>0.0</td>\n",
       "      <td>0.0</td>\n",
       "      <td>0.0</td>\n",
       "      <td>1.0</td>\n",
       "    </tr>\n",
       "    <tr>\n",
       "      <th>1388</th>\n",
       "      <td>1</td>\n",
       "      <td>9</td>\n",
       "      <td>O</td>\n",
       "      <td>1</td>\n",
       "      <td>1</td>\n",
       "      <td>1</td>\n",
       "      <td>2</td>\n",
       "      <td>1</td>\n",
       "      <td>1</td>\n",
       "      <td>0</td>\n",
       "      <td>0</td>\n",
       "      <td>0</td>\n",
       "      <td>0.0</td>\n",
       "      <td>0.0</td>\n",
       "      <td>1.0</td>\n",
       "      <td>0.0</td>\n",
       "    </tr>\n",
       "  </tbody>\n",
       "</table>\n",
       "<p>1389 rows × 16 columns</p>\n",
       "</div>"
      ],
      "text/plain": [
       "      Modified Zurich Class  Largest Spot Size Spot Distribution  Evolution  \\\n",
       "0                         2                 10                 O          2   \n",
       "1                         3                 10                 O          3   \n",
       "2                         2                 10                 O          3   \n",
       "3                         3                 10                 O          3   \n",
       "4                         3                  0                 O          3   \n",
       "...                     ...                ...               ...        ...   \n",
       "1384                      7                 10                 X          2   \n",
       "1385                      7                 10                 X          2   \n",
       "1386                      2                 10                 O          2   \n",
       "1387                      7                  7                 X          2   \n",
       "1388                      1                  9                 O          1   \n",
       "\n",
       "      Previous 24 Hour Flare Activity  Historically-complex  \\\n",
       "0                                   1                     1   \n",
       "1                                   1                     1   \n",
       "2                                   1                     1   \n",
       "3                                   1                     1   \n",
       "4                                   1                     1   \n",
       "...                               ...                   ...   \n",
       "1384                                1                     1   \n",
       "1385                                1                     1   \n",
       "1386                                1                     2   \n",
       "1387                                1                     1   \n",
       "1388                                1                     1   \n",
       "\n",
       "      Became Complex on this Pass  Area  Area of Largest Spot  Common Flares  \\\n",
       "0                               2     1                     2              0   \n",
       "1                               2     1                     2              0   \n",
       "2                               2     1                     1              0   \n",
       "3                               2     1                     2              0   \n",
       "4                               2     1                     2              0   \n",
       "...                           ...   ...                   ...            ...   \n",
       "1384                            1     1                     1              0   \n",
       "1385                            2     1                     1              0   \n",
       "1386                            2     1                     1              0   \n",
       "1387                            2     1                     1              0   \n",
       "1388                            2     1                     1              0   \n",
       "\n",
       "      Moderate Flares  Severe Flares    0    1    2    3  \n",
       "0                   0              0  0.0  0.0  1.0  0.0  \n",
       "1                   0              0  0.0  0.0  1.0  0.0  \n",
       "2                   0              0  0.0  0.0  1.0  0.0  \n",
       "3                   0              0  0.0  0.0  1.0  0.0  \n",
       "4                   0              0  0.0  0.0  1.0  0.0  \n",
       "...               ...            ...  ...  ...  ...  ...  \n",
       "1384                0              0  0.0  0.0  0.0  1.0  \n",
       "1385                0              0  0.0  0.0  0.0  1.0  \n",
       "1386                0              0  0.0  0.0  1.0  0.0  \n",
       "1387                0              0  0.0  0.0  0.0  1.0  \n",
       "1388                0              0  0.0  0.0  1.0  0.0  \n",
       "\n",
       "[1389 rows x 16 columns]"
      ]
     },
     "execution_count": 42,
     "metadata": {},
     "output_type": "execute_result"
    }
   ],
   "source": [
    "DF_D"
   ]
  },
  {
   "cell_type": "markdown",
   "id": "8ddee13a",
   "metadata": {},
   "source": [
    "We can now devide up our data into x and y as described above. Do so then use a test train split of 80/20 and random seed 10. While We have already encoded our X data our Y data is a bit diffrent. Our Logistic Regression module can only take one Y column at a time but we have three, so, we will run it three times, one for each column."
   ]
  },
  {
   "cell_type": "code",
   "execution_count": 43,
   "id": "037b90a4",
   "metadata": {},
   "outputs": [
    {
     "data": {
      "text/plain": [
       "0       0\n",
       "1       0\n",
       "2       0\n",
       "3       0\n",
       "4       0\n",
       "       ..\n",
       "1384    0\n",
       "1385    0\n",
       "1386    0\n",
       "1387    0\n",
       "1388    0\n",
       "Name: Common Flares, Length: 1389, dtype: int64"
      ]
     },
     "execution_count": 43,
     "metadata": {},
     "output_type": "execute_result"
    }
   ],
   "source": [
    "Common_Flares = DF_D [\"Common Flares\"]\n",
    "Common_Flares"
   ]
  },
  {
   "cell_type": "code",
   "execution_count": 44,
   "id": "367e661c",
   "metadata": {},
   "outputs": [
    {
     "data": {
      "text/plain": [
       "0       0\n",
       "1       0\n",
       "2       0\n",
       "3       0\n",
       "4       0\n",
       "       ..\n",
       "1384    0\n",
       "1385    0\n",
       "1386    0\n",
       "1387    0\n",
       "1388    0\n",
       "Name: Moderate Flares, Length: 1389, dtype: int64"
      ]
     },
     "execution_count": 44,
     "metadata": {},
     "output_type": "execute_result"
    }
   ],
   "source": [
    "Moderate_Flares = DF_D [\"Moderate Flares\"]\n",
    "Moderate_Flares"
   ]
  },
  {
   "cell_type": "code",
   "execution_count": 45,
   "id": "65a71e1e",
   "metadata": {},
   "outputs": [
    {
     "data": {
      "text/plain": [
       "0       0\n",
       "1       0\n",
       "2       0\n",
       "3       0\n",
       "4       0\n",
       "       ..\n",
       "1384    0\n",
       "1385    0\n",
       "1386    0\n",
       "1387    0\n",
       "1388    0\n",
       "Name: Severe Flares, Length: 1389, dtype: int64"
      ]
     },
     "execution_count": 45,
     "metadata": {},
     "output_type": "execute_result"
    }
   ],
   "source": [
    "Severe_Flares = DF_D [\"Severe Flares\"]\n",
    "Severe_Flares"
   ]
  },
  {
   "cell_type": "code",
   "execution_count": 46,
   "id": "1db1f3c4",
   "metadata": {},
   "outputs": [
    {
     "data": {
      "text/plain": [
       "Index(['Modified Zurich Class', 'Largest Spot Size', 'Spot Distribution',\n",
       "       'Evolution', 'Previous 24 Hour Flare Activity', 'Historically-complex',\n",
       "       'Became Complex on this Pass', 'Area', 'Area of Largest Spot',\n",
       "       'Common Flares', 'Moderate Flares', 'Severe Flares', '0', '1', '2',\n",
       "       '3'],\n",
       "      dtype='object')"
      ]
     },
     "execution_count": 46,
     "metadata": {},
     "output_type": "execute_result"
    }
   ],
   "source": [
    "DF_D.columns"
   ]
  },
  {
   "cell_type": "code",
   "execution_count": 48,
   "id": "bca453ca",
   "metadata": {},
   "outputs": [
    {
     "data": {
      "text/html": [
       "<div>\n",
       "<style scoped>\n",
       "    .dataframe tbody tr th:only-of-type {\n",
       "        vertical-align: middle;\n",
       "    }\n",
       "\n",
       "    .dataframe tbody tr th {\n",
       "        vertical-align: top;\n",
       "    }\n",
       "\n",
       "    .dataframe thead th {\n",
       "        text-align: right;\n",
       "    }\n",
       "</style>\n",
       "<table border=\"1\" class=\"dataframe\">\n",
       "  <thead>\n",
       "    <tr style=\"text-align: right;\">\n",
       "      <th></th>\n",
       "      <th>modified Zurich class</th>\n",
       "      <th>largest spot size</th>\n",
       "      <th>evolution</th>\n",
       "      <th>previous 24 hour flare activity</th>\n",
       "      <th>historically-complex</th>\n",
       "      <th>became complex on this pass</th>\n",
       "      <th>area</th>\n",
       "      <th>area of largest spot</th>\n",
       "      <th>0</th>\n",
       "      <th>1</th>\n",
       "      <th>2</th>\n",
       "    </tr>\n",
       "  </thead>\n",
       "  <tbody>\n",
       "    <tr>\n",
       "      <th>0</th>\n",
       "      <td>2</td>\n",
       "      <td>10</td>\n",
       "      <td>2</td>\n",
       "      <td>1</td>\n",
       "      <td>1</td>\n",
       "      <td>2</td>\n",
       "      <td>1</td>\n",
       "      <td>2</td>\n",
       "      <td>0.0</td>\n",
       "      <td>0.0</td>\n",
       "      <td>0.0</td>\n",
       "    </tr>\n",
       "    <tr>\n",
       "      <th>1</th>\n",
       "      <td>3</td>\n",
       "      <td>10</td>\n",
       "      <td>3</td>\n",
       "      <td>1</td>\n",
       "      <td>1</td>\n",
       "      <td>2</td>\n",
       "      <td>1</td>\n",
       "      <td>2</td>\n",
       "      <td>0.0</td>\n",
       "      <td>0.0</td>\n",
       "      <td>0.0</td>\n",
       "    </tr>\n",
       "    <tr>\n",
       "      <th>2</th>\n",
       "      <td>2</td>\n",
       "      <td>10</td>\n",
       "      <td>3</td>\n",
       "      <td>1</td>\n",
       "      <td>1</td>\n",
       "      <td>2</td>\n",
       "      <td>1</td>\n",
       "      <td>1</td>\n",
       "      <td>0.0</td>\n",
       "      <td>0.0</td>\n",
       "      <td>0.0</td>\n",
       "    </tr>\n",
       "    <tr>\n",
       "      <th>3</th>\n",
       "      <td>3</td>\n",
       "      <td>10</td>\n",
       "      <td>3</td>\n",
       "      <td>1</td>\n",
       "      <td>1</td>\n",
       "      <td>2</td>\n",
       "      <td>1</td>\n",
       "      <td>2</td>\n",
       "      <td>0.0</td>\n",
       "      <td>0.0</td>\n",
       "      <td>0.0</td>\n",
       "    </tr>\n",
       "    <tr>\n",
       "      <th>4</th>\n",
       "      <td>3</td>\n",
       "      <td>0</td>\n",
       "      <td>3</td>\n",
       "      <td>1</td>\n",
       "      <td>1</td>\n",
       "      <td>2</td>\n",
       "      <td>1</td>\n",
       "      <td>2</td>\n",
       "      <td>0.0</td>\n",
       "      <td>0.0</td>\n",
       "      <td>0.0</td>\n",
       "    </tr>\n",
       "    <tr>\n",
       "      <th>5</th>\n",
       "      <td>3</td>\n",
       "      <td>0</td>\n",
       "      <td>2</td>\n",
       "      <td>1</td>\n",
       "      <td>1</td>\n",
       "      <td>2</td>\n",
       "      <td>1</td>\n",
       "      <td>2</td>\n",
       "      <td>0.0</td>\n",
       "      <td>0.0</td>\n",
       "      <td>0.0</td>\n",
       "    </tr>\n",
       "    <tr>\n",
       "      <th>6</th>\n",
       "      <td>3</td>\n",
       "      <td>0</td>\n",
       "      <td>2</td>\n",
       "      <td>1</td>\n",
       "      <td>1</td>\n",
       "      <td>2</td>\n",
       "      <td>1</td>\n",
       "      <td>1</td>\n",
       "      <td>0.0</td>\n",
       "      <td>0.0</td>\n",
       "      <td>0.0</td>\n",
       "    </tr>\n",
       "    <tr>\n",
       "      <th>7</th>\n",
       "      <td>3</td>\n",
       "      <td>0</td>\n",
       "      <td>2</td>\n",
       "      <td>1</td>\n",
       "      <td>1</td>\n",
       "      <td>2</td>\n",
       "      <td>1</td>\n",
       "      <td>2</td>\n",
       "      <td>0.0</td>\n",
       "      <td>0.0</td>\n",
       "      <td>0.0</td>\n",
       "    </tr>\n",
       "    <tr>\n",
       "      <th>8</th>\n",
       "      <td>3</td>\n",
       "      <td>8</td>\n",
       "      <td>3</td>\n",
       "      <td>1</td>\n",
       "      <td>1</td>\n",
       "      <td>2</td>\n",
       "      <td>1</td>\n",
       "      <td>2</td>\n",
       "      <td>0.0</td>\n",
       "      <td>0.0</td>\n",
       "      <td>0.0</td>\n",
       "    </tr>\n",
       "    <tr>\n",
       "      <th>9</th>\n",
       "      <td>2</td>\n",
       "      <td>7</td>\n",
       "      <td>3</td>\n",
       "      <td>1</td>\n",
       "      <td>1</td>\n",
       "      <td>2</td>\n",
       "      <td>1</td>\n",
       "      <td>1</td>\n",
       "      <td>0.0</td>\n",
       "      <td>0.0</td>\n",
       "      <td>0.0</td>\n",
       "    </tr>\n",
       "  </tbody>\n",
       "</table>\n",
       "</div>"
      ],
      "text/plain": [
       "   modified Zurich class  largest spot size  evolution  \\\n",
       "0                      2                 10          2   \n",
       "1                      3                 10          3   \n",
       "2                      2                 10          3   \n",
       "3                      3                 10          3   \n",
       "4                      3                  0          3   \n",
       "5                      3                  0          2   \n",
       "6                      3                  0          2   \n",
       "7                      3                  0          2   \n",
       "8                      3                  8          3   \n",
       "9                      2                  7          3   \n",
       "\n",
       "   previous 24 hour flare activity  historically-complex  \\\n",
       "0                                1                     1   \n",
       "1                                1                     1   \n",
       "2                                1                     1   \n",
       "3                                1                     1   \n",
       "4                                1                     1   \n",
       "5                                1                     1   \n",
       "6                                1                     1   \n",
       "7                                1                     1   \n",
       "8                                1                     1   \n",
       "9                                1                     1   \n",
       "\n",
       "   became complex on this pass  area  area of largest spot    0    1    2  \n",
       "0                            2     1                     2  0.0  0.0  0.0  \n",
       "1                            2     1                     2  0.0  0.0  0.0  \n",
       "2                            2     1                     1  0.0  0.0  0.0  \n",
       "3                            2     1                     2  0.0  0.0  0.0  \n",
       "4                            2     1                     2  0.0  0.0  0.0  \n",
       "5                            2     1                     2  0.0  0.0  0.0  \n",
       "6                            2     1                     1  0.0  0.0  0.0  \n",
       "7                            2     1                     2  0.0  0.0  0.0  \n",
       "8                            2     1                     2  0.0  0.0  0.0  \n",
       "9                            2     1                     1  0.0  0.0  0.0  "
      ]
     },
     "execution_count": 48,
     "metadata": {},
     "output_type": "execute_result"
    }
   ],
   "source": [
    "#Now, define our x data (use all other columns into one dataframe)\n",
    "x = {\"modified Zurich class\" : DF_D[\"Modified Zurich Class\"], \"largest spot size\" : DF_D[\"Largest Spot Size\"], \"evolution\" : DF_D[\"Evolution\"],\n",
    "    \"previous 24 hour flare activity\" : DF_D[\"Previous 24 Hour Flare Activity\"], \"historically-complex\" : DF_D[\"Historically-complex\"],\n",
    "    \"became complex on this pass\" : DF_D[\"Became Complex on this Pass\"], \"area\" : DF_D[\"Area\"], \"area of largest spot\" : DF_D[\"Area of Largest Spot\"],\n",
    "    \"0\" : DF_D[\"0\"], \"1\" : DF_D[\"1\"], \"2\" :DF_D[\"3\"]}\n",
    "x = pd.DataFrame (x)\n",
    "x.head (10) #good"
   ]
  },
  {
   "cell_type": "code",
   "execution_count": 49,
   "id": "80b37dab",
   "metadata": {},
   "outputs": [],
   "source": [
    "from sklearn.preprocessing import LabelEncoder\n",
    "encoder = LabelEncoder ()"
   ]
  },
  {
   "cell_type": "code",
   "execution_count": 50,
   "id": "eaff4526",
   "metadata": {},
   "outputs": [],
   "source": [
    "Common_encoded_labels = encoder.fit_transform (Common_Flares) "
   ]
  },
  {
   "cell_type": "code",
   "execution_count": 51,
   "id": "fdc49b0c",
   "metadata": {},
   "outputs": [],
   "source": [
    "from sklearn.model_selection import train_test_split\n",
    "X_test, X_train = train_test_split (x, test_size = 0.2,random_state = 10) #80/20 split, randomize with seed 1\n",
    "Y_test, Y_train = train_test_split (Common_encoded_labels, test_size = 0.2,random_state = 10) #80/20 split, randomize with seed 1"
   ]
  },
  {
   "cell_type": "code",
   "execution_count": 52,
   "id": "03fb0ce3",
   "metadata": {},
   "outputs": [],
   "source": [
    "from sklearn.linear_model import LogisticRegression #gives us logistic regression itself\n",
    "from sklearn.metrics import accuracy_score#will let us test the modle's accuracy"
   ]
  },
  {
   "cell_type": "code",
   "execution_count": 53,
   "id": "66b3c922",
   "metadata": {},
   "outputs": [
    {
     "name": "stderr",
     "output_type": "stream",
     "text": [
      "C:\\Users\\tim\\anaconda3\\Lib\\site-packages\\sklearn\\linear_model\\_logistic.py:458: ConvergenceWarning: lbfgs failed to converge (status=1):\n",
      "STOP: TOTAL NO. of ITERATIONS REACHED LIMIT.\n",
      "\n",
      "Increase the number of iterations (max_iter) or scale the data as shown in:\n",
      "    https://scikit-learn.org/stable/modules/preprocessing.html\n",
      "Please also refer to the documentation for alternative solver options:\n",
      "    https://scikit-learn.org/stable/modules/linear_model.html#logistic-regression\n",
      "  n_iter_i = _check_optimize_result(\n"
     ]
    },
    {
     "data": {
      "text/html": [
       "<style>#sk-container-id-1 {color: black;background-color: white;}#sk-container-id-1 pre{padding: 0;}#sk-container-id-1 div.sk-toggleable {background-color: white;}#sk-container-id-1 label.sk-toggleable__label {cursor: pointer;display: block;width: 100%;margin-bottom: 0;padding: 0.3em;box-sizing: border-box;text-align: center;}#sk-container-id-1 label.sk-toggleable__label-arrow:before {content: \"▸\";float: left;margin-right: 0.25em;color: #696969;}#sk-container-id-1 label.sk-toggleable__label-arrow:hover:before {color: black;}#sk-container-id-1 div.sk-estimator:hover label.sk-toggleable__label-arrow:before {color: black;}#sk-container-id-1 div.sk-toggleable__content {max-height: 0;max-width: 0;overflow: hidden;text-align: left;background-color: #f0f8ff;}#sk-container-id-1 div.sk-toggleable__content pre {margin: 0.2em;color: black;border-radius: 0.25em;background-color: #f0f8ff;}#sk-container-id-1 input.sk-toggleable__control:checked~div.sk-toggleable__content {max-height: 200px;max-width: 100%;overflow: auto;}#sk-container-id-1 input.sk-toggleable__control:checked~label.sk-toggleable__label-arrow:before {content: \"▾\";}#sk-container-id-1 div.sk-estimator input.sk-toggleable__control:checked~label.sk-toggleable__label {background-color: #d4ebff;}#sk-container-id-1 div.sk-label input.sk-toggleable__control:checked~label.sk-toggleable__label {background-color: #d4ebff;}#sk-container-id-1 input.sk-hidden--visually {border: 0;clip: rect(1px 1px 1px 1px);clip: rect(1px, 1px, 1px, 1px);height: 1px;margin: -1px;overflow: hidden;padding: 0;position: absolute;width: 1px;}#sk-container-id-1 div.sk-estimator {font-family: monospace;background-color: #f0f8ff;border: 1px dotted black;border-radius: 0.25em;box-sizing: border-box;margin-bottom: 0.5em;}#sk-container-id-1 div.sk-estimator:hover {background-color: #d4ebff;}#sk-container-id-1 div.sk-parallel-item::after {content: \"\";width: 100%;border-bottom: 1px solid gray;flex-grow: 1;}#sk-container-id-1 div.sk-label:hover label.sk-toggleable__label {background-color: #d4ebff;}#sk-container-id-1 div.sk-serial::before {content: \"\";position: absolute;border-left: 1px solid gray;box-sizing: border-box;top: 0;bottom: 0;left: 50%;z-index: 0;}#sk-container-id-1 div.sk-serial {display: flex;flex-direction: column;align-items: center;background-color: white;padding-right: 0.2em;padding-left: 0.2em;position: relative;}#sk-container-id-1 div.sk-item {position: relative;z-index: 1;}#sk-container-id-1 div.sk-parallel {display: flex;align-items: stretch;justify-content: center;background-color: white;position: relative;}#sk-container-id-1 div.sk-item::before, #sk-container-id-1 div.sk-parallel-item::before {content: \"\";position: absolute;border-left: 1px solid gray;box-sizing: border-box;top: 0;bottom: 0;left: 50%;z-index: -1;}#sk-container-id-1 div.sk-parallel-item {display: flex;flex-direction: column;z-index: 1;position: relative;background-color: white;}#sk-container-id-1 div.sk-parallel-item:first-child::after {align-self: flex-end;width: 50%;}#sk-container-id-1 div.sk-parallel-item:last-child::after {align-self: flex-start;width: 50%;}#sk-container-id-1 div.sk-parallel-item:only-child::after {width: 0;}#sk-container-id-1 div.sk-dashed-wrapped {border: 1px dashed gray;margin: 0 0.4em 0.5em 0.4em;box-sizing: border-box;padding-bottom: 0.4em;background-color: white;}#sk-container-id-1 div.sk-label label {font-family: monospace;font-weight: bold;display: inline-block;line-height: 1.2em;}#sk-container-id-1 div.sk-label-container {text-align: center;}#sk-container-id-1 div.sk-container {/* jupyter's `normalize.less` sets `[hidden] { display: none; }` but bootstrap.min.css set `[hidden] { display: none !important; }` so we also need the `!important` here to be able to override the default hidden behavior on the sphinx rendered scikit-learn.org. See: https://github.com/scikit-learn/scikit-learn/issues/21755 */display: inline-block !important;position: relative;}#sk-container-id-1 div.sk-text-repr-fallback {display: none;}</style><div id=\"sk-container-id-1\" class=\"sk-top-container\"><div class=\"sk-text-repr-fallback\"><pre>LogisticRegression(random_state=0)</pre><b>In a Jupyter environment, please rerun this cell to show the HTML representation or trust the notebook. <br />On GitHub, the HTML representation is unable to render, please try loading this page with nbviewer.org.</b></div><div class=\"sk-container\" hidden><div class=\"sk-item\"><div class=\"sk-estimator sk-toggleable\"><input class=\"sk-toggleable__control sk-hidden--visually\" id=\"sk-estimator-id-1\" type=\"checkbox\" checked><label for=\"sk-estimator-id-1\" class=\"sk-toggleable__label sk-toggleable__label-arrow\">LogisticRegression</label><div class=\"sk-toggleable__content\"><pre>LogisticRegression(random_state=0)</pre></div></div></div></div></div>"
      ],
      "text/plain": [
       "LogisticRegression(random_state=0)"
      ]
     },
     "execution_count": 53,
     "metadata": {},
     "output_type": "execute_result"
    }
   ],
   "source": [
    "clf = LogisticRegression(random_state=0) #initalize\n",
    "clf.fit(X_train, Y_train)"
   ]
  },
  {
   "cell_type": "code",
   "execution_count": 54,
   "id": "4ad96c74",
   "metadata": {},
   "outputs": [],
   "source": [
    "Y_pred = clf.predict(X_test)"
   ]
  },
  {
   "cell_type": "code",
   "execution_count": 55,
   "id": "afae7042",
   "metadata": {},
   "outputs": [
    {
     "name": "stdout",
     "output_type": "stream",
     "text": [
      "Logistic Regression model accuracy on common flare(in %) is 84.69846984698471\n"
     ]
    }
   ],
   "source": [
    "acc = accuracy_score(Y_test, Y_pred)\n",
    "print(\"Logistic Regression model accuracy on common flare(in %) is\", acc*100) #why might it be less accurate"
   ]
  },
  {
   "cell_type": "code",
   "execution_count": 56,
   "id": "4398f075",
   "metadata": {},
   "outputs": [],
   "source": [
    "#now for the second data set\n",
    "Moderate_encoded_labels = encoder.fit_transform (Moderate_Flares) "
   ]
  },
  {
   "cell_type": "code",
   "execution_count": 57,
   "id": "81d5760e",
   "metadata": {},
   "outputs": [],
   "source": [
    "X_test_II, X_train_II = train_test_split (x, test_size = 0.2,random_state = 10) #80/20 split, randomize with seed 1\n",
    "Y_test_II, Y_train_II = train_test_split (Moderate_encoded_labels, test_size = 0.2,random_state = 10) #80/20 split, randomize with seed 1"
   ]
  },
  {
   "cell_type": "code",
   "execution_count": 58,
   "id": "70fa685e",
   "metadata": {},
   "outputs": [
    {
     "name": "stdout",
     "output_type": "stream",
     "text": [
      "Logistic Regression model accuracy on moderate flares (in %) is 94.95949594959497\n"
     ]
    },
    {
     "name": "stderr",
     "output_type": "stream",
     "text": [
      "C:\\Users\\tim\\anaconda3\\Lib\\site-packages\\sklearn\\linear_model\\_logistic.py:458: ConvergenceWarning: lbfgs failed to converge (status=1):\n",
      "STOP: TOTAL NO. of ITERATIONS REACHED LIMIT.\n",
      "\n",
      "Increase the number of iterations (max_iter) or scale the data as shown in:\n",
      "    https://scikit-learn.org/stable/modules/preprocessing.html\n",
      "Please also refer to the documentation for alternative solver options:\n",
      "    https://scikit-learn.org/stable/modules/linear_model.html#logistic-regression\n",
      "  n_iter_i = _check_optimize_result(\n"
     ]
    }
   ],
   "source": [
    "clf.fit(X_train_II, Y_train_II)\n",
    "Y_pred_II = clf.predict(X_test_II)\n",
    "acc_II = accuracy_score(Y_test_II, Y_pred_II)\n",
    "print(\"Logistic Regression model accuracy on moderate flares (in %) is\", acc_II*100) "
   ]
  },
  {
   "cell_type": "code",
   "execution_count": 59,
   "id": "c6a5d201",
   "metadata": {},
   "outputs": [],
   "source": [
    "#for the third group\n",
    "Severe_encoded_labels = encoder.fit_transform (Severe_Flares) "
   ]
  },
  {
   "cell_type": "code",
   "execution_count": 60,
   "id": "889bc475",
   "metadata": {},
   "outputs": [],
   "source": [
    "X_test_III, X_train_III = train_test_split (x, test_size = 0.2,random_state = 10) #80/20 split, randomize with seed 1\n",
    "Y_test_III, Y_train_III = train_test_split (Severe_encoded_labels, test_size = 0.2,random_state = 10) #80/20 split, randomize with seed 1"
   ]
  },
  {
   "cell_type": "code",
   "execution_count": 61,
   "id": "8b19acd6",
   "metadata": {},
   "outputs": [
    {
     "name": "stdout",
     "output_type": "stream",
     "text": [
      "Logistic Regression model accuracy on severe flares (in %) is 99.09990999099911\n"
     ]
    }
   ],
   "source": [
    "clf.fit(X_train_III, Y_train_III)\n",
    "Y_pred_III = clf.predict(X_test_III)\n",
    "acc_III = accuracy_score(Y_test_III, Y_pred_III)\n",
    "print(\"Logistic Regression model accuracy on severe flares (in %) is\", acc_III*100)"
   ]
  },
  {
   "cell_type": "code",
   "execution_count": 62,
   "id": "b7cc4437",
   "metadata": {},
   "outputs": [],
   "source": [
    "#we can now do the same but with the random forest package, this time use only 50 trees and random state 25\n",
    "from sklearn.ensemble import RandomForestClassifier #gives us the Randomforest classifier itself\n",
    "\n",
    "rf_classifier = RandomForestClassifier(n_estimators=50, random_state=25) #initlize with 50 trees"
   ]
  },
  {
   "cell_type": "code",
   "execution_count": 63,
   "id": "333a0121",
   "metadata": {},
   "outputs": [
    {
     "name": "stdout",
     "output_type": "stream",
     "text": [
      "The Random Forest module's model accuracy on common flares (in %) is 80.73807380738074\n"
     ]
    }
   ],
   "source": [
    "rf_classifier.fit(X_train, Y_train)\n",
    "Y_predict = rf_classifier.predict(X_test)\n",
    "accuracy = accuracy_score(Y_test, Y_predict)\n",
    "print(\"The Random Forest module's model accuracy on common flares (in %) is\", accuracy*100)"
   ]
  },
  {
   "cell_type": "code",
   "execution_count": 64,
   "id": "09bd3ce3",
   "metadata": {},
   "outputs": [
    {
     "name": "stdout",
     "output_type": "stream",
     "text": [
      "The Random Forest module's model accuracy on moderate flares (in %) is 92.7992799279928\n"
     ]
    }
   ],
   "source": [
    "rf_classifier.fit(X_train_II, Y_train_II)\n",
    "Y_predict_II = rf_classifier.predict(X_test_II)\n",
    "accuracy_II = accuracy_score(Y_test_II, Y_predict_II)\n",
    "print(\"The Random Forest module's model accuracy on moderate flares (in %) is\", accuracy_II*100)"
   ]
  },
  {
   "cell_type": "code",
   "execution_count": 65,
   "id": "e510e0c0",
   "metadata": {},
   "outputs": [
    {
     "name": "stdout",
     "output_type": "stream",
     "text": [
      "The Random Forest module's model accuracy on severe flares (in %) is 98.64986498649864\n"
     ]
    }
   ],
   "source": [
    "rf_classifier.fit(X_train_III, Y_train_III)\n",
    "Y_predict_III = rf_classifier.predict(X_test_III)\n",
    "accuracy_III = accuracy_score(Y_test_III, Y_predict_III)\n",
    "print(\"The Random Forest module's model accuracy on severe flares (in %) is\", accuracy_III*100)"
   ]
  },
  {
   "cell_type": "markdown",
   "id": "f9696cf7",
   "metadata": {},
   "source": [
    "Let's take one of our modles and make some predictsions."
   ]
  },
  {
   "cell_type": "code",
   "execution_count": 68,
   "id": "8a341507",
   "metadata": {},
   "outputs": [
    {
     "name": "stderr",
     "output_type": "stream",
     "text": [
      "C:\\Users\\tim\\anaconda3\\Lib\\site-packages\\sklearn\\base.py:439: UserWarning: X does not have valid feature names, but LogisticRegression was fitted with feature names\n",
      "  warnings.warn(\n"
     ]
    },
    {
     "data": {
      "text/plain": [
       "array([0], dtype=int64)"
      ]
     },
     "execution_count": 68,
     "metadata": {},
     "output_type": "execute_result"
    }
   ],
   "source": [
    "New_Data = [[1,0,1,2,1,1,1,2,1,0,1]] #fix\n",
    "New_Prediction = clf.predict (New_Data)\n",
    "New_Prediction #there will be no solar active under this regiem"
   ]
  },
  {
   "cell_type": "markdown",
   "id": "32d1263f",
   "metadata": {},
   "source": [
    "Feel free to try different ways of encoding the data and different train test splits to see the effects on the module. Have fun."
   ]
  },
  {
   "cell_type": "markdown",
   "id": "b5450821",
   "metadata": {},
   "source": [
    "# Continuous Data Set\n",
    "Let's now start with the continuous data set. Load the data 'Oscilloscope_Data_I' and name it DF_C"
   ]
  },
  {
   "cell_type": "code",
   "execution_count": 69,
   "id": "04181e4a",
   "metadata": {},
   "outputs": [
    {
     "data": {
      "text/html": [
       "<div>\n",
       "<style scoped>\n",
       "    .dataframe tbody tr th:only-of-type {\n",
       "        vertical-align: middle;\n",
       "    }\n",
       "\n",
       "    .dataframe tbody tr th {\n",
       "        vertical-align: top;\n",
       "    }\n",
       "\n",
       "    .dataframe thead th {\n",
       "        text-align: right;\n",
       "    }\n",
       "</style>\n",
       "<table border=\"1\" class=\"dataframe\">\n",
       "  <thead>\n",
       "    <tr style=\"text-align: right;\">\n",
       "      <th></th>\n",
       "      <th>Record Length</th>\n",
       "      <th>2.50E+03</th>\n",
       "      <th>Unnamed: 2</th>\n",
       "      <th>-0.00000249</th>\n",
       "      <th>-0.008</th>\n",
       "    </tr>\n",
       "  </thead>\n",
       "  <tbody>\n",
       "    <tr>\n",
       "      <th>0</th>\n",
       "      <td>Sample Interval</td>\n",
       "      <td>2.00E-09</td>\n",
       "      <td>NaN</td>\n",
       "      <td>-0.000002</td>\n",
       "      <td>-0.016</td>\n",
       "    </tr>\n",
       "    <tr>\n",
       "      <th>1</th>\n",
       "      <td>Trigger Point</td>\n",
       "      <td>1.25E+03</td>\n",
       "      <td>NaN</td>\n",
       "      <td>-0.000002</td>\n",
       "      <td>-0.016</td>\n",
       "    </tr>\n",
       "    <tr>\n",
       "      <th>2</th>\n",
       "      <td>NaN</td>\n",
       "      <td>NaN</td>\n",
       "      <td>NaN</td>\n",
       "      <td>-0.000002</td>\n",
       "      <td>-0.024</td>\n",
       "    </tr>\n",
       "    <tr>\n",
       "      <th>3</th>\n",
       "      <td>NaN</td>\n",
       "      <td>NaN</td>\n",
       "      <td>NaN</td>\n",
       "      <td>-0.000002</td>\n",
       "      <td>-0.032</td>\n",
       "    </tr>\n",
       "    <tr>\n",
       "      <th>4</th>\n",
       "      <td>NaN</td>\n",
       "      <td>NaN</td>\n",
       "      <td>NaN</td>\n",
       "      <td>-0.000002</td>\n",
       "      <td>-0.024</td>\n",
       "    </tr>\n",
       "    <tr>\n",
       "      <th>...</th>\n",
       "      <td>...</td>\n",
       "      <td>...</td>\n",
       "      <td>...</td>\n",
       "      <td>...</td>\n",
       "      <td>...</td>\n",
       "    </tr>\n",
       "    <tr>\n",
       "      <th>2494</th>\n",
       "      <td>NaN</td>\n",
       "      <td>NaN</td>\n",
       "      <td>NaN</td>\n",
       "      <td>0.000003</td>\n",
       "      <td>-0.040</td>\n",
       "    </tr>\n",
       "    <tr>\n",
       "      <th>2495</th>\n",
       "      <td>NaN</td>\n",
       "      <td>NaN</td>\n",
       "      <td>NaN</td>\n",
       "      <td>0.000003</td>\n",
       "      <td>-0.040</td>\n",
       "    </tr>\n",
       "    <tr>\n",
       "      <th>2496</th>\n",
       "      <td>NaN</td>\n",
       "      <td>NaN</td>\n",
       "      <td>NaN</td>\n",
       "      <td>0.000003</td>\n",
       "      <td>-0.032</td>\n",
       "    </tr>\n",
       "    <tr>\n",
       "      <th>2497</th>\n",
       "      <td>NaN</td>\n",
       "      <td>NaN</td>\n",
       "      <td>NaN</td>\n",
       "      <td>0.000003</td>\n",
       "      <td>-0.048</td>\n",
       "    </tr>\n",
       "    <tr>\n",
       "      <th>2498</th>\n",
       "      <td>NaN</td>\n",
       "      <td>NaN</td>\n",
       "      <td>NaN</td>\n",
       "      <td>0.000003</td>\n",
       "      <td>-0.040</td>\n",
       "    </tr>\n",
       "  </tbody>\n",
       "</table>\n",
       "<p>2499 rows × 5 columns</p>\n",
       "</div>"
      ],
      "text/plain": [
       "        Record Length  2.50E+03  Unnamed: 2  -0.00000249  -0.008\n",
       "0     Sample Interval  2.00E-09         NaN    -0.000002  -0.016\n",
       "1       Trigger Point  1.25E+03         NaN    -0.000002  -0.016\n",
       "2                 NaN       NaN         NaN    -0.000002  -0.024\n",
       "3                 NaN       NaN         NaN    -0.000002  -0.032\n",
       "4                 NaN       NaN         NaN    -0.000002  -0.024\n",
       "...               ...       ...         ...          ...     ...\n",
       "2494              NaN       NaN         NaN     0.000003  -0.040\n",
       "2495              NaN       NaN         NaN     0.000003  -0.040\n",
       "2496              NaN       NaN         NaN     0.000003  -0.032\n",
       "2497              NaN       NaN         NaN     0.000003  -0.048\n",
       "2498              NaN       NaN         NaN     0.000003  -0.040\n",
       "\n",
       "[2499 rows x 5 columns]"
      ]
     },
     "execution_count": 69,
     "metadata": {},
     "output_type": "execute_result"
    }
   ],
   "source": [
    "DF_C = pd.read_csv (\"Oscilloscope_Data_I.csv\")\n",
    "DF_C"
   ]
  },
  {
   "cell_type": "markdown",
   "id": "760ca55b",
   "metadata": {},
   "source": [
    "It is sometimes important to open your data in, for instance, excel, in order to see what it really looks like. In this case, we can see that the first three columns give our information on the data and not any data itself. Therefore, you can delete these columns."
   ]
  },
  {
   "cell_type": "code",
   "execution_count": 70,
   "id": "82fc657f",
   "metadata": {},
   "outputs": [],
   "source": [
    "del DF_C [\"Record Length\"]\n",
    "del DF_C [\"2.50E+03\"]\n",
    "del DF_C [\"Unnamed: 2\"]"
   ]
  },
  {
   "cell_type": "markdown",
   "id": "e6093dd6",
   "metadata": {},
   "source": [
    "This works well but our column names are still off. We note pandas read these first entries as titles hence this mistake. To fix this, we wish to rename the columns of the DataFrame. "
   ]
  },
  {
   "cell_type": "code",
   "execution_count": 71,
   "id": "3f472d2f",
   "metadata": {},
   "outputs": [
    {
     "data": {
      "text/html": [
       "<div>\n",
       "<style scoped>\n",
       "    .dataframe tbody tr th:only-of-type {\n",
       "        vertical-align: middle;\n",
       "    }\n",
       "\n",
       "    .dataframe tbody tr th {\n",
       "        vertical-align: top;\n",
       "    }\n",
       "\n",
       "    .dataframe thead th {\n",
       "        text-align: right;\n",
       "    }\n",
       "</style>\n",
       "<table border=\"1\" class=\"dataframe\">\n",
       "  <thead>\n",
       "    <tr style=\"text-align: right;\">\n",
       "      <th></th>\n",
       "      <th>x_data</th>\n",
       "      <th>y_data</th>\n",
       "    </tr>\n",
       "  </thead>\n",
       "  <tbody>\n",
       "    <tr>\n",
       "      <th>0</th>\n",
       "      <td>-0.000002</td>\n",
       "      <td>-0.016</td>\n",
       "    </tr>\n",
       "    <tr>\n",
       "      <th>1</th>\n",
       "      <td>-0.000002</td>\n",
       "      <td>-0.016</td>\n",
       "    </tr>\n",
       "    <tr>\n",
       "      <th>2</th>\n",
       "      <td>-0.000002</td>\n",
       "      <td>-0.024</td>\n",
       "    </tr>\n",
       "    <tr>\n",
       "      <th>3</th>\n",
       "      <td>-0.000002</td>\n",
       "      <td>-0.032</td>\n",
       "    </tr>\n",
       "    <tr>\n",
       "      <th>4</th>\n",
       "      <td>-0.000002</td>\n",
       "      <td>-0.024</td>\n",
       "    </tr>\n",
       "    <tr>\n",
       "      <th>...</th>\n",
       "      <td>...</td>\n",
       "      <td>...</td>\n",
       "    </tr>\n",
       "    <tr>\n",
       "      <th>2494</th>\n",
       "      <td>0.000003</td>\n",
       "      <td>-0.040</td>\n",
       "    </tr>\n",
       "    <tr>\n",
       "      <th>2495</th>\n",
       "      <td>0.000003</td>\n",
       "      <td>-0.040</td>\n",
       "    </tr>\n",
       "    <tr>\n",
       "      <th>2496</th>\n",
       "      <td>0.000003</td>\n",
       "      <td>-0.032</td>\n",
       "    </tr>\n",
       "    <tr>\n",
       "      <th>2497</th>\n",
       "      <td>0.000003</td>\n",
       "      <td>-0.048</td>\n",
       "    </tr>\n",
       "    <tr>\n",
       "      <th>2498</th>\n",
       "      <td>0.000003</td>\n",
       "      <td>-0.040</td>\n",
       "    </tr>\n",
       "  </tbody>\n",
       "</table>\n",
       "<p>2499 rows × 2 columns</p>\n",
       "</div>"
      ],
      "text/plain": [
       "        x_data  y_data\n",
       "0    -0.000002  -0.016\n",
       "1    -0.000002  -0.016\n",
       "2    -0.000002  -0.024\n",
       "3    -0.000002  -0.032\n",
       "4    -0.000002  -0.024\n",
       "...        ...     ...\n",
       "2494  0.000003  -0.040\n",
       "2495  0.000003  -0.040\n",
       "2496  0.000003  -0.032\n",
       "2497  0.000003  -0.048\n",
       "2498  0.000003  -0.040\n",
       "\n",
       "[2499 rows x 2 columns]"
      ]
     },
     "execution_count": 71,
     "metadata": {},
     "output_type": "execute_result"
    }
   ],
   "source": [
    "#Dict = {\"x_data\" : -0.00000249, \"y_data\" : -0.008}\n",
    "Dict = {\"-0.00000249\" : 'x_data', \"-0.008\" : \"y_data\"}\n",
    "\n",
    "DF_C = DF_C.rename (columns = Dict)\n",
    "DF_C"
   ]
  },
  {
   "cell_type": "markdown",
   "id": "44f2e410",
   "metadata": {},
   "source": [
    "Next, find some information about this dataframe: The mean, Maximum, Minimum and Standard Deviation. Do this with both .describe () and the commands for those specific values."
   ]
  },
  {
   "cell_type": "code",
   "execution_count": 72,
   "id": "9c074bd3",
   "metadata": {},
   "outputs": [
    {
     "data": {
      "text/html": [
       "<div>\n",
       "<style scoped>\n",
       "    .dataframe tbody tr th:only-of-type {\n",
       "        vertical-align: middle;\n",
       "    }\n",
       "\n",
       "    .dataframe tbody tr th {\n",
       "        vertical-align: top;\n",
       "    }\n",
       "\n",
       "    .dataframe thead th {\n",
       "        text-align: right;\n",
       "    }\n",
       "</style>\n",
       "<table border=\"1\" class=\"dataframe\">\n",
       "  <thead>\n",
       "    <tr style=\"text-align: right;\">\n",
       "      <th></th>\n",
       "      <th>x_data</th>\n",
       "      <th>y_data</th>\n",
       "    </tr>\n",
       "  </thead>\n",
       "  <tbody>\n",
       "    <tr>\n",
       "      <th>count</th>\n",
       "      <td>2.499000e+03</td>\n",
       "      <td>2499.000000</td>\n",
       "    </tr>\n",
       "    <tr>\n",
       "      <th>mean</th>\n",
       "      <td>1.000000e-08</td>\n",
       "      <td>-0.015462</td>\n",
       "    </tr>\n",
       "    <tr>\n",
       "      <th>std</th>\n",
       "      <td>1.443087e-06</td>\n",
       "      <td>0.111561</td>\n",
       "    </tr>\n",
       "    <tr>\n",
       "      <th>min</th>\n",
       "      <td>-2.488000e-06</td>\n",
       "      <td>-0.248000</td>\n",
       "    </tr>\n",
       "    <tr>\n",
       "      <th>25%</th>\n",
       "      <td>-1.239000e-06</td>\n",
       "      <td>-0.040000</td>\n",
       "    </tr>\n",
       "    <tr>\n",
       "      <th>50%</th>\n",
       "      <td>1.000000e-08</td>\n",
       "      <td>-0.032000</td>\n",
       "    </tr>\n",
       "    <tr>\n",
       "      <th>75%</th>\n",
       "      <td>1.259000e-06</td>\n",
       "      <td>-0.016000</td>\n",
       "    </tr>\n",
       "    <tr>\n",
       "      <th>max</th>\n",
       "      <td>2.508000e-06</td>\n",
       "      <td>0.984000</td>\n",
       "    </tr>\n",
       "  </tbody>\n",
       "</table>\n",
       "</div>"
      ],
      "text/plain": [
       "             x_data       y_data\n",
       "count  2.499000e+03  2499.000000\n",
       "mean   1.000000e-08    -0.015462\n",
       "std    1.443087e-06     0.111561\n",
       "min   -2.488000e-06    -0.248000\n",
       "25%   -1.239000e-06    -0.040000\n",
       "50%    1.000000e-08    -0.032000\n",
       "75%    1.259000e-06    -0.016000\n",
       "max    2.508000e-06     0.984000"
      ]
     },
     "execution_count": 72,
     "metadata": {},
     "output_type": "execute_result"
    }
   ],
   "source": [
    "DF_C.describe ()"
   ]
  },
  {
   "cell_type": "code",
   "execution_count": 73,
   "id": "6163ac46",
   "metadata": {},
   "outputs": [
    {
     "data": {
      "text/plain": [
       "1.443086968966183e-06"
      ]
     },
     "execution_count": 73,
     "metadata": {},
     "output_type": "execute_result"
    }
   ],
   "source": [
    "#alternativly\n",
    "DF_C[\"x_data\"].max () #2.508e-06\n",
    "DF_C[\"x_data\"].min () #-2.488e-06\n",
    "DF_C[\"x_data\"].std () #1.443086968966183e-06"
   ]
  },
  {
   "cell_type": "markdown",
   "id": "867f6a3f",
   "metadata": {},
   "source": [
    "# Data Splitting\n",
    "To further our understanding of this data, graph it in matplotlib. Use a red plot and lable the axis and title."
   ]
  },
  {
   "cell_type": "code",
   "execution_count": 74,
   "id": "18354f04",
   "metadata": {},
   "outputs": [
    {
     "data": {
      "image/png": "[encoded data removed]",
      "text/plain": [
       "<Figure size 640x480 with 1 Axes>"
      ]
     },
     "metadata": {},
     "output_type": "display_data"
    }
   ],
   "source": [
    "plt.plot (DF_C[\"y_data\"], 'r')\n",
    "plt.title (\"Oscilloscope Data\")\n",
    "plt.xlabel (\"Signal\")\n",
    "plt.ylabel ('Function')\n",
    "plt.show ()"
   ]
  },
  {
   "cell_type": "markdown",
   "id": "82f800d0",
   "metadata": {},
   "source": [
    "We can see that this is some kind of wave. As this was an electronically generated signal, we should be able to generate a sufficiently complex function (probably by Fourier Series if nothing else) to account for it wholly. However, here, we just want to select and approximate the curve with a quadratic. You may think of this as a Taylor Series if you like. "
   ]
  },
  {
   "cell_type": "code",
   "execution_count": 75,
   "id": "f4582c2a",
   "metadata": {},
   "outputs": [
    {
     "name": "stdout",
     "output_type": "stream",
     "text": [
      "[1241, 1331]\n"
     ]
    }
   ],
   "source": [
    "#first I will remove some of the data for you\n",
    "min_values = list ()\n",
    "for k in np.arange (len (DF_C[\"x_data\"])):\n",
    "    if DF_C[\"y_data\"][k] == -0.248: #finds the minimum value (should have two)\n",
    "        min_values.append (k)\n",
    "print (min_values)"
   ]
  },
  {
   "cell_type": "markdown",
   "id": "fb5b63a3",
   "metadata": {},
   "source": [
    "This tells us that entries 1241 and 1331 are the two minimum points. We now want to remove all points prior two and after these points such that only the central peak remains"
   ]
  },
  {
   "cell_type": "code",
   "execution_count": 76,
   "id": "ef057a85",
   "metadata": {},
   "outputs": [],
   "source": [
    "for k in np.arange (1241):\n",
    "    DF_C = DF_C.drop(k)"
   ]
  },
  {
   "cell_type": "code",
   "execution_count": 77,
   "id": "b11c728a",
   "metadata": {},
   "outputs": [
    {
     "data": {
      "image/png": "[encoded data removed]",
      "text/plain": [
       "<Figure size 640x480 with 1 Axes>"
      ]
     },
     "metadata": {},
     "output_type": "display_data"
    }
   ],
   "source": [
    "#regraph to see effect\n",
    "plt.plot (DF_C[\"y_data\"], 'r')\n",
    "plt.title (\"Oscilloscope Data\")\n",
    "plt.xlabel (\"Signal\")\n",
    "plt.ylabel ('Function')\n",
    "plt.show ()"
   ]
  },
  {
   "cell_type": "code",
   "execution_count": 78,
   "id": "faa6be94",
   "metadata": {},
   "outputs": [],
   "source": [
    "for k in np.arange (start = 1332, stop = 2499):\n",
    "    DF_C = DF_C.drop(k)"
   ]
  },
  {
   "cell_type": "code",
   "execution_count": 79,
   "id": "020f4e0b",
   "metadata": {},
   "outputs": [
    {
     "data": {
      "image/png": "[encoded data removed]",
      "text/plain": [
       "<Figure size 640x480 with 1 Axes>"
      ]
     },
     "metadata": {},
     "output_type": "display_data"
    }
   ],
   "source": [
    "plt.plot (DF_C[\"y_data\"], 'r')\n",
    "plt.title (\"Oscilloscope Data\")\n",
    "plt.xlabel (\"Signal\")\n",
    "plt.ylabel ('Function')\n",
    "plt.show ()"
   ]
  },
  {
   "cell_type": "markdown",
   "id": "b2cd8fb7",
   "metadata": {},
   "source": [
    "# Continuous Data Set Machine Learning\n",
    "Let's now start with the continuous data set. Load the data 'Oscilloscope_Data_I' and name it DF_C\n",
    "Now we have taken our data and split it into a curve. This may be significant in real life data if you are only interested in the peak. Now, we will use train test split to divide our data. Use random seed five and a 30/70 split. "
   ]
  },
  {
   "cell_type": "code",
   "execution_count": 80,
   "id": "c2f9d119",
   "metadata": {},
   "outputs": [],
   "source": [
    "#we need to split our data again\n",
    "from sklearn.model_selection import train_test_split #reload our test and train\n",
    "X_test_C, X_train_C = train_test_split (DF_C[\"x_data\"], test_size = 0.3,random_state = 5) #70/30 split, randomize with seed 5\n",
    "Y_test_C, Y_train_C = train_test_split (DF_C[\"y_data\"], test_size = 0.3,random_state = 5) #70/30 split, randomize with seed 5"
   ]
  },
  {
   "cell_type": "markdown",
   "id": "1f8d381b",
   "metadata": {},
   "source": [
    "We now will work with the linear regression module itself. However, whereas before we had linear data now we have a curve. load the polynomialFetures program from sklearn.prepossing and use it to graph the fit and measure chi-squared to see if our model is reasonable."
   ]
  },
  {
   "cell_type": "code",
   "execution_count": 81,
   "id": "647f5969",
   "metadata": {},
   "outputs": [],
   "source": [
    "X_train_C = X_train_C.to_numpy ()\n",
    "Y_train_C = Y_train_C.to_numpy()\n",
    "X_test_C = X_test_C.to_numpy ()\n",
    "Y_test_C = Y_test_C.to_numpy()"
   ]
  },
  {
   "cell_type": "code",
   "execution_count": 82,
   "id": "3c8a938d",
   "metadata": {},
   "outputs": [],
   "source": [
    "X_train_C = X_train_C.reshape (-1,1)\n",
    "Y_train_C = Y_train_C.reshape (-1,1)\n",
    "X_test_C = X_test_C.reshape (-1,1)\n",
    "Y_test_C = Y_test_C.reshape (-1,1)"
   ]
  },
  {
   "cell_type": "code",
   "execution_count": 83,
   "id": "afc130f7",
   "metadata": {},
   "outputs": [
    {
     "name": "stdout",
     "output_type": "stream",
     "text": [
      "[[ 3.26463702e+07 -1.83540474e+14]] [-0.61766254]\n"
     ]
    }
   ],
   "source": [
    "from sklearn.linear_model import LinearRegression\n",
    "from sklearn.preprocessing import PolynomialFeatures\n",
    "poly_feat = PolynomialFeatures(degree=2, include_bias=False) #this allows us to use polynomial aspects, degree = 2 is for quodratics\n",
    "X_poly = poly_feat.fit_transform(X_train_C)\n",
    "lin_reg = LinearRegression()\n",
    "lin_reg.fit(X_poly, Y_train_C)\n",
    "print(lin_reg.coef_, lin_reg.intercept_)"
   ]
  },
  {
   "cell_type": "code",
   "execution_count": 84,
   "id": "7636f219",
   "metadata": {},
   "outputs": [],
   "source": [
    "Y_Predict =lin_reg.predict(poly_feat.transform(X_test_C))"
   ]
  },
  {
   "cell_type": "code",
   "execution_count": 85,
   "id": "d5a7e78f",
   "metadata": {},
   "outputs": [
    {
     "data": {
      "image/png": "[encoded data removed]",
      "text/plain": [
       "<Figure size 640x480 with 1 Axes>"
      ]
     },
     "metadata": {},
     "output_type": "display_data"
    }
   ],
   "source": [
    "plt.scatter(DF_C[\"x_data\"],DF_C[\"y_data\"] )\n",
    "plt.scatter (X_test_C,Y_Predict, c = \"r\")\n",
    "plt.title (\"Oscilloscope Data\")\n",
    "plt.xlabel (\"Signal\")\n",
    "plt.ylabel ('Function')\n",
    "plt.legend ([\"Data\",\"Modle\"])\n",
    "plt.show ()"
   ]
  },
  {
   "cell_type": "markdown",
   "id": "08107010",
   "metadata": {},
   "source": [
    "We can now see how our module compares with the data. Let us now check this data with a statistical test."
   ]
  },
  {
   "cell_type": "code",
   "execution_count": 86,
   "id": "65d9130a",
   "metadata": {},
   "outputs": [],
   "source": [
    "def Chi_test (Test,Predict):\n",
    "    Top_list = list ()\n",
    "    for k in np.arange(len(Test)):\n",
    "        T = ((Test[k] - Predict[k])**2)/ Predict[k]\n",
    "        Top_list.append (T)\n",
    "    return (sum(Top_list))"
   ]
  },
  {
   "cell_type": "code",
   "execution_count": 88,
   "id": "8507fdf2",
   "metadata": {},
   "outputs": [
    {
     "name": "stdout",
     "output_type": "stream",
     "text": [
      "our chi squared value is [2.5387273], for 90 degrees of freedom and an alpha value of 0.05 our critical value is 113. Therefore our modle passes\n"
     ]
    }
   ],
   "source": [
    "print(f\"our chi squared value is {Chi_test(Y_test_C,Y_Predict)}, for 90 degrees of freedom and an alpha value of 0.05 our critical value is 113. Therefore our modle passes\")"
   ]
  },
  {
   "cell_type": "markdown",
   "id": "d5534e5c",
   "metadata": {},
   "source": [
    "We can now also experiment with normilzation and standardization as we did before."
   ]
  },
  {
   "cell_type": "code",
   "execution_count": 89,
   "id": "00ac43fd",
   "metadata": {},
   "outputs": [],
   "source": [
    "X = DF_C['x_data']\n",
    "X = X.to_numpy ()\n",
    "X = X.reshape (-1,1)\n",
    "\n",
    "Y = DF_C['y_data']\n",
    "Y = Y.to_numpy ()\n",
    "Y = Y.reshape (-1,1)"
   ]
  },
  {
   "cell_type": "code",
   "execution_count": 90,
   "id": "9284e71e",
   "metadata": {},
   "outputs": [],
   "source": [
    "#first we will scale our data from 0 to 1\n",
    "from sklearn.preprocessing import MinMaxScaler #import\n",
    "\n",
    "min_max = MinMaxScaler()  #initalize, you can min max to different sizes, this is especially usefull for graphic presentation\n",
    "\n",
    "X = min_max.fit_transform(X) \n",
    "Y = min_max.fit_transform(Y) "
   ]
  },
  {
   "cell_type": "code",
   "execution_count": 91,
   "id": "00577d1e",
   "metadata": {},
   "outputs": [
    {
     "name": "stdout",
     "output_type": "stream",
     "text": [
      " the maximum value of the x data is 1.0\n",
      " The minimum value of the x data is 0.0\n",
      " the maximum value of the y data is 1.0\n",
      " The minimum value of the y data is 0.0\n"
     ]
    }
   ],
   "source": [
    "print (f\" the maximum value of the x data is {X.max()}\")\n",
    "print (f\" The minimum value of the x data is {X.min ()}\")\n",
    "\n",
    "print (f\" the maximum value of the y data is {Y.max()}\")\n",
    "print (f\" The minimum value of the y data is {Y.min ()}\")"
   ]
  },
  {
   "cell_type": "code",
   "execution_count": 92,
   "id": "b506577c",
   "metadata": {},
   "outputs": [],
   "source": [
    "#we can also standardize our data\n",
    "from sklearn.preprocessing import StandardScaler  \n",
    "\n",
    "scaler = StandardScaler() #standardization sets the mean to be zero and the verance to be one\n",
    "\n",
    "X = scaler.fit_transform(X) \n",
    "Y = scaler.fit_transform(Y)"
   ]
  },
  {
   "cell_type": "code",
   "execution_count": 93,
   "id": "1ddb9046",
   "metadata": {},
   "outputs": [
    {
     "name": "stdout",
     "output_type": "stream",
     "text": [
      " the mean value of the x data is 1.0492217595358622e-16\n",
      " The standard deviation value of the x data is 1.0\n",
      " the mean value of the y data is 2.1960455432145954e-16\n",
      " The standard deviation value of the y data is 0.9999999999999999\n"
     ]
    }
   ],
   "source": [
    "#we can use these commands to get information on our x and y data\n",
    "print (f\" the mean value of the x data is {X.mean()}\") #very close to zero\n",
    "print (f\" The standard deviation value of the x data is {X.std ()}\")\n",
    "\n",
    "print (f\" the mean value of the y data is {Y.mean()}\")\n",
    "print (f\" The standard deviation value of the y data is {Y.std ()}\")"
   ]
  },
  {
   "cell_type": "markdown",
   "id": "d0b44965",
   "metadata": {},
   "source": [
    "Copyright Note:\n",
    "    \n",
    "Permission is hereby granted, free of charge, to any person obtaining a copy\n",
    "of this software and associated documentation files (the \"Software\"), to deal\n",
    "in the Software without restriction, including without limitation the rights\n",
    "to use, copy, modify, merge, publish, distribute, sublicense, and/or sell\n",
    "copies of the Software, and to permit persons to whom the Software is\n",
    "furnished to do so, subject to the following conditions:\n",
    "\n",
    "The above copyright notice and this permission notice shall be included in all\n",
    "copies or substantial portions of the Software.\n",
    "\n",
    "THE SOFTWARE IS PROVIDED \"AS IS\", WITHOUT WARRANTY OF ANY KIND, EXPRESS OR\n",
    "IMPLIED, INCLUDING BUT NOT LIMITED TO THE WARRANTIES OF MERCHANTABILITY,\n",
    "FITNESS FOR A PARTICULAR PURPOSE AND NONINFRINGEMENT. IN NO EVENT SHALL THE\n",
    "AUTHORS OR COPYRIGHT HOLDERS BE LIABLE FOR ANY CLAIM, DAMAGES OR OTHER\n",
    "LIABILITY, WHETHER IN AN ACTION OF CONTRACT, TORT OR OTHERWISE, ARISING FROM,\n",
    "OUT OF OR IN CONNECTION WITH THE SOFTWARE OR THE USE OR OTHER DEALINGS IN THE\n",
    "SOFTWARE."
   ]
  }
 ],
 "metadata": {
  "kernelspec": {
   "display_name": "Python 3 (ipykernel)",
   "language": "python",
   "name": "python3"
  },
  "language_info": {
   "codemirror_mode": {
    "name": "ipython",
    "version": 3
   },
   "file_extension": ".py",
   "mimetype": "text/x-python",
   "name": "python",
   "nbconvert_exporter": "python",
   "pygments_lexer": "ipython3",
   "version": "3.11.7"
  }
 },
 "nbformat": 4,
 "nbformat_minor": 5
}
